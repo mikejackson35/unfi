{
 "cells": [
  {
   "cell_type": "code",
   "execution_count": 22,
   "id": "047fad66",
   "metadata": {},
   "outputs": [],
   "source": [
    "import streamlit as st\n",
    "\n",
    "import numpy as np\n",
    "import pandas as pd\n",
    "\n",
    "import plotly.express as px"
   ]
  },
  {
   "cell_type": "code",
   "execution_count": 23,
   "id": "c14f0b1e",
   "metadata": {},
   "outputs": [],
   "source": [
    "path = r\"C:\\Users\\mikej\\Downloads\\unfi_june_2023.xlsx\"\n",
    "\n",
    "use_cols = ['Region', 'Channel', 'Chain Name','Customer Name', 'Address', 'City', 'State',\n",
    "       'Zip Code', 'Warehouse', 'MFG PROD CD', 'Brand','Prod #', 'Description', 'Pack', 'Size',\n",
    "       'UNFI Published Wholesale','Sales', 'Units']\n",
    "\n",
    "df = pd.read_excel(path,skiprows=12, usecols=use_cols)\n",
    "df.dropna(subset=['Customer Name'], inplace=True)\n",
    "\n",
    "df['Chain Name'].fillna(df['Customer Name'], inplace=True)\n",
    "\n",
    "df['Year'] = 2023\n",
    "\n",
    "df['MonthNum'] = 6\n",
    "df['Month'] = 'June'\n",
    "\n",
    "jun23 = df[['Month','MonthNum','Year','Region', 'Channel', 'Chain Name','Customer Name', 'Address', 'City', 'State',\n",
    "       'Zip Code', 'Warehouse', 'MFG PROD CD', 'Brand','Prod #', 'Description', 'Pack', 'Size',\n",
    "       'UNFI Published Wholesale','Sales', 'Units']]"
   ]
  },
  {
   "cell_type": "code",
   "execution_count": 24,
   "id": "2e6d2ae2",
   "metadata": {},
   "outputs": [],
   "source": [
    "path = r\"C:\\Users\\mikej\\Downloads\\unfi_july_2023.xlsx\"\n",
    "\n",
    "use_cols = ['Region', 'Channel', 'Chain Name','Customer Name', 'Address', 'City', 'State',\n",
    "       'Zip Code', 'Warehouse', 'MFG PROD CD', 'Brand','Prod #', 'Description', 'Pack', 'Size',\n",
    "       'UNFI Published Wholesale','Sales', 'Units']\n",
    "\n",
    "df = pd.read_excel(path,usecols=use_cols)\n",
    "df.dropna(subset=['Customer Name'], inplace=True)\n",
    "\n",
    "df['Chain Name'].fillna(df['Customer Name'], inplace=True)\n",
    "\n",
    "df['Year'] = 2023\n",
    "\n",
    "df['MonthNum'] = 7\n",
    "df['Month'] = 'July'\n",
    "\n",
    "jul23 = df[['Month','MonthNum','Year','Region', 'Channel', 'Chain Name','Customer Name', 'Address', 'City', 'State',\n",
    "       'Zip Code', 'Warehouse', 'MFG PROD CD', 'Brand','Prod #', 'Description', 'Pack', 'Size',\n",
    "       'UNFI Published Wholesale','Sales', 'Units']]"
   ]
  },
  {
   "cell_type": "code",
   "execution_count": 26,
   "id": "09605030",
   "metadata": {},
   "outputs": [],
   "source": [
    "path = r\"C:\\Users\\mikej\\Downloads\\unfi_aug_2023.xlsx\"\n",
    "\n",
    "use_cols = ['Region', 'Channel', 'Chain Name','Customer Name', 'Address', 'City', 'State',\n",
    "       'Zip Code', 'Warehouse', 'MFG PROD CD', 'Brand','Prod #', 'Description', 'Pack', 'Size',\n",
    "       'UNFI Published Wholesale','Sales', 'Units']\n",
    "\n",
    "df = pd.read_excel(path,skiprows=12, usecols=use_cols)\n",
    "df.dropna(subset=['Customer Name'], inplace=True)\n",
    "\n",
    "df['Chain Name'].fillna(df['Customer Name'], inplace=True)\n",
    "\n",
    "df['Year'] = 2023\n",
    "\n",
    "df['MonthNum'] = 8\n",
    "df['Month'] = 'August'\n",
    "\n",
    "aug23 = df[['Month','MonthNum','Year','Region', 'Channel', 'Chain Name','Customer Name', 'Address', 'City', 'State',\n",
    "       'Zip Code', 'Warehouse', 'MFG PROD CD', 'Brand','Prod #', 'Description', 'Pack', 'Size',\n",
    "       'UNFI Published Wholesale','Sales', 'Units']]"
   ]
  },
  {
   "cell_type": "code",
   "execution_count": 27,
   "id": "d54d8ba8",
   "metadata": {},
   "outputs": [],
   "source": [
    "path = r\"C:\\Users\\mikej\\Downloads\\unfi_sep_2023.xlsx\"\n",
    "\n",
    "use_cols = ['Region', 'Channel', 'Chain Name','Customer Name', 'Address', 'City', 'State',\n",
    "       'Zip Code', 'Warehouse', 'MFG PROD CD', 'Brand','Prod #', 'Description', 'Pack', 'Size',\n",
    "       'UNFI Published Wholesale','Sales', 'Units']\n",
    "\n",
    "df = pd.read_excel(path,skiprows=12, usecols=use_cols)\n",
    "df.dropna(subset=['Customer Name'], inplace=True)\n",
    "\n",
    "df['Chain Name'].fillna(df['Customer Name'], inplace=True)\n",
    "\n",
    "df['Year'] = 2023\n",
    "\n",
    "df['MonthNum'] = 9\n",
    "df['Month'] = 'September'\n",
    "\n",
    "sep23 = df[['Month','MonthNum','Year','Region', 'Channel', 'Chain Name','Customer Name', 'Address', 'City', 'State',\n",
    "       'Zip Code', 'Warehouse', 'MFG PROD CD', 'Brand','Prod #', 'Description', 'Pack', 'Size',\n",
    "       'UNFI Published Wholesale','Sales', 'Units']]"
   ]
  },
  {
   "cell_type": "code",
   "execution_count": 28,
   "id": "02e88656",
   "metadata": {},
   "outputs": [],
   "source": [
    "path = r\"C:\\Users\\mikej\\Downloads\\unfi_oct_2023.xlsx\"\n",
    "\n",
    "use_cols = ['Region', 'Channel', 'Chain Name','Customer Name', 'Address', 'City', 'State',\n",
    "       'Zip Code', 'Warehouse', 'MFG PROD CD', 'Brand','Prod #', 'Description', 'Pack', 'Size',\n",
    "       'UNFI Published Wholesale','Sales', 'Units']\n",
    "\n",
    "df = pd.read_excel(path,skiprows=12, usecols=use_cols)\n",
    "df.dropna(subset=['Customer Name'], inplace=True)\n",
    "\n",
    "df['Chain Name'].fillna(df['Customer Name'], inplace=True)\n",
    "\n",
    "df['Year'] = 2023\n",
    "\n",
    "df['MonthNum'] = 10\n",
    "df['Month'] = 'October'\n",
    "\n",
    "oct23 = df[['Month','MonthNum','Year','Region', 'Channel', 'Chain Name','Customer Name', 'Address', 'City', 'State',\n",
    "       'Zip Code', 'Warehouse', 'MFG PROD CD', 'Brand','Prod #', 'Description', 'Pack', 'Size',\n",
    "       'UNFI Published Wholesale','Sales', 'Units']]"
   ]
  },
  {
   "cell_type": "code",
   "execution_count": 29,
   "id": "43f0ccdd",
   "metadata": {},
   "outputs": [],
   "source": [
    "path = r\"C:\\Users\\mikej\\Downloads\\unfi_nov_2023.xlsx\"\n",
    "\n",
    "use_cols = ['Region', 'Channel', 'Chain Name','Customer Name', 'Address', 'City', 'State',\n",
    "       'Zip Code', 'Warehouse', 'MFG PROD CD', 'Brand','Prod #', 'Description', 'Pack', 'Size',\n",
    "       'UNFI Published Wholesale','Sales', 'Units']\n",
    "\n",
    "df = pd.read_excel(path,skiprows=12, usecols=use_cols)\n",
    "df.dropna(subset=['Customer Name'], inplace=True)\n",
    "\n",
    "df['Chain Name'].fillna(df['Customer Name'], inplace=True)\n",
    "\n",
    "df['Year'] = 2023\n",
    "\n",
    "df['MonthNum'] = 11\n",
    "df['Month'] = 'November'\n",
    "\n",
    "nov23 = df[['Month','MonthNum','Year','Region', 'Channel', 'Chain Name','Customer Name', 'Address', 'City', 'State',\n",
    "       'Zip Code', 'Warehouse', 'MFG PROD CD', 'Brand','Prod #', 'Description', 'Pack', 'Size',\n",
    "       'UNFI Published Wholesale','Sales', 'Units']]"
   ]
  },
  {
   "cell_type": "code",
   "execution_count": 30,
   "id": "adff7451",
   "metadata": {},
   "outputs": [],
   "source": [
    "path = r\"C:\\Users\\mikej\\Downloads\\unfi_dec_2023.xlsx\"\n",
    "\n",
    "use_cols = ['Region', 'Channel', 'Chain Name','Customer Name', 'Address', 'City', 'State',\n",
    "       'Zip Code', 'Warehouse', 'MFG PROD CD', 'Brand','Prod #', 'Description', 'Pack', 'Size',\n",
    "       'UNFI Published Wholesale','Sales', 'Units']\n",
    "\n",
    "df = pd.read_excel(path,skiprows=12, usecols=use_cols)\n",
    "df.dropna(subset=['Customer Name'], inplace=True)\n",
    "\n",
    "df['Chain Name'].fillna(df['Customer Name'], inplace=True)\n",
    "\n",
    "df['Year'] = 2023\n",
    "\n",
    "df['MonthNum'] = 12\n",
    "df['Month'] = 'December'\n",
    "\n",
    "dec23 = df[['Month','MonthNum','Year','Region', 'Channel', 'Chain Name','Customer Name', 'Address', 'City', 'State',\n",
    "       'Zip Code', 'Warehouse', 'MFG PROD CD', 'Brand','Prod #', 'Description', 'Pack', 'Size',\n",
    "       'UNFI Published Wholesale','Sales', 'Units']]"
   ]
  },
  {
   "cell_type": "code",
   "execution_count": 31,
   "id": "8ea24bab",
   "metadata": {},
   "outputs": [],
   "source": [
    "path = r\"C:\\Users\\mikej\\Downloads\\WILDE - SBO Velocity Report - 01.2024.xlsx\"\n",
    "\n",
    "use_cols = ['Region', 'Channel', 'Chain Name','Customer Name', 'Address', 'City', 'State',\n",
    "       'Zip Code', 'Warehouse', 'MFG PROD CD', 'Brand','Prod #', 'Description', 'Pack', 'Size',\n",
    "       'UNFI Published Wholesale','Sales', 'Units']\n",
    "\n",
    "df = pd.read_excel(path,skiprows=12, usecols=use_cols)\n",
    "\n",
    "df.dropna(subset=['Customer Name'], inplace=True)\n",
    "\n",
    "df['Chain Name'].fillna(df['Customer Name'], inplace=True)\n",
    "\n",
    "df['Year'] = 2024\n",
    "\n",
    "df['MonthNum'] = 1\n",
    "df['Month'] = 'January'\n",
    "\n",
    "jan24 = df[['Month','MonthNum','Year','Region', 'Channel', 'Chain Name','Customer Name', 'Address', 'City', 'State',\n",
    "       'Zip Code', 'Warehouse', 'MFG PROD CD', 'Brand','Prod #', 'Description', 'Pack', 'Size',\n",
    "       'UNFI Published Wholesale','Sales', 'Units']]"
   ]
  },
  {
   "cell_type": "code",
   "execution_count": 32,
   "id": "ff35a67e",
   "metadata": {},
   "outputs": [],
   "source": [
    "path = r\"C:\\Users\\mikej\\Downloads\\WILDE - SBO Velocity Report - 02.2024.xlsx\"\n",
    "\n",
    "use_cols = ['Region', 'Channel', 'Chain Name','Customer Name', 'Address', 'City', 'State',\n",
    "       'Zip Code', 'Warehouse', 'MFG PROD CD', 'Brand','Prod #', 'Description', 'Pack', 'Size',\n",
    "       'UNFI Published Wholesale','Sales', 'Units']\n",
    "\n",
    "df = pd.read_excel(path,skiprows=12, usecols=use_cols)\n",
    "\n",
    "df.dropna(subset=['Customer Name'], inplace=True)\n",
    "\n",
    "df['Chain Name'].fillna(df['Customer Name'], inplace=True)\n",
    "\n",
    "df['Year'] = 2024\n",
    "\n",
    "df['MonthNum'] = 2\n",
    "df['Month'] = 'February'\n",
    "\n",
    "feb24 = df[['Month','MonthNum','Year','Region', 'Channel', 'Chain Name','Customer Name', 'Address', 'City', 'State',\n",
    "       'Zip Code', 'Warehouse', 'MFG PROD CD', 'Brand','Prod #', 'Description', 'Pack', 'Size',\n",
    "       'UNFI Published Wholesale','Sales', 'Units']]"
   ]
  },
  {
   "cell_type": "code",
   "execution_count": 33,
   "id": "79e3c283",
   "metadata": {},
   "outputs": [],
   "source": [
    "path = r\"C:\\Users\\mikej\\Downloads\\WILDE - SBO Velocity Report - 03.2024.xlsx\"\n",
    "\n",
    "use_cols = ['Region', 'Channel', 'Chain Name','Customer Name', 'Address', 'City', 'State',\n",
    "       'Zip Code', 'Warehouse', 'MFG PROD CD', 'Brand','Prod #', 'Description', 'Pack', 'Size',\n",
    "       'UNFI Published Wholesale','Sales', 'Units']\n",
    "\n",
    "df = pd.read_excel(path,skiprows=12, usecols=use_cols)\n",
    "\n",
    "df.dropna(subset=['Customer Name'], inplace=True)\n",
    "\n",
    "df['Chain Name'].fillna(df['Customer Name'], inplace=True)\n",
    "\n",
    "df['Year'] = 2024\n",
    "\n",
    "df['MonthNum'] = 3\n",
    "df['Month'] = 'March'\n",
    "\n",
    "mar24 = df[['Month','MonthNum','Year','Region', 'Channel', 'Chain Name','Customer Name', 'Address', 'City', 'State',\n",
    "       'Zip Code', 'Warehouse', 'MFG PROD CD', 'Brand','Prod #', 'Description', 'Pack', 'Size',\n",
    "       'UNFI Published Wholesale','Sales', 'Units']]"
   ]
  },
  {
   "cell_type": "code",
   "execution_count": 34,
   "id": "3dbaefaa",
   "metadata": {},
   "outputs": [],
   "source": [
    "path = r\"C:\\Users\\mikej\\Downloads\\WILDE - SBO Velocity Report - 04.2024.xlsx\"\n",
    "\n",
    "use_cols = ['Region', 'Channel', 'Chain Name','Customer Name', 'Address', 'City', 'State',\n",
    "       'Zip Code', 'Warehouse', 'MFG PROD CD', 'Brand','Prod #', 'Description', 'Pack', 'Size',\n",
    "       'UNFI Published Wholesale','Sales', 'Units']\n",
    "\n",
    "df = pd.read_excel(path,skiprows=12, usecols=use_cols)\n",
    "\n",
    "df.dropna(subset=['Customer Name'], inplace=True)\n",
    "\n",
    "df['Chain Name'].fillna(df['Customer Name'], inplace=True)\n",
    "\n",
    "df['Year'] = 2024\n",
    "\n",
    "df['MonthNum'] = 4\n",
    "df['Month'] = 'April'\n",
    "\n",
    "apr24 = df[['Month','MonthNum','Year','Region', 'Channel', 'Chain Name','Customer Name', 'Address', 'City', 'State',\n",
    "       'Zip Code', 'Warehouse', 'MFG PROD CD', 'Brand','Prod #', 'Description', 'Pack', 'Size',\n",
    "       'UNFI Published Wholesale','Sales', 'Units']]"
   ]
  },
  {
   "cell_type": "code",
   "execution_count": 35,
   "id": "efda13ad",
   "metadata": {},
   "outputs": [],
   "source": [
    "path = r\"C:\\Users\\mikej\\Downloads\\UNFI_MONTHLY_Wilde Brands SBO Velocity Report_2024_05.xlsx\"\n",
    "\n",
    "use_cols = ['Region', 'Channel', 'Chain Name','Customer Name', 'Address', 'City', 'State',\n",
    "       'Zip Code', 'Warehouse', 'MFG PROD CD', 'Brand','Prod #', 'Description', 'Pack', 'Size',\n",
    "       'UNFI Published Wholesale','Sales', 'Units']\n",
    "\n",
    "df = pd.read_excel(path,skiprows=12, usecols=use_cols)\n",
    "df.dropna(subset=['Customer Name'], inplace=True)\n",
    "\n",
    "df['Chain Name'].fillna(df['Customer Name'], inplace=True)\n",
    "\n",
    "df['Year'] = 2024\n",
    "\n",
    "df['MonthNum'] = 5\n",
    "df['Month'] = 'May'\n",
    "\n",
    "may24 = df[['Month','MonthNum','Year','Region', 'Channel', 'Chain Name','Customer Name', 'Address', 'City', 'State',\n",
    "       'Zip Code', 'Warehouse', 'MFG PROD CD', 'Brand','Prod #', 'Description', 'Pack', 'Size',\n",
    "       'UNFI Published Wholesale','Sales', 'Units']]"
   ]
  },
  {
   "cell_type": "code",
   "execution_count": 36,
   "id": "3a15e4d8",
   "metadata": {},
   "outputs": [],
   "source": [
    "path = r\"C:\\Users\\mikej\\Downloads\\UNFI_MONTHLY_Wilde Brands SBO Velocity Report_2024_06.xlsx\"\n",
    "\n",
    "use_cols = ['Region', 'Channel', 'Chain Name','Customer Name', 'Address', 'City', 'State',\n",
    "       'Zip Code', 'Warehouse', 'MFG PROD CD', 'Brand','Prod #', 'Description', 'Pack', 'Size',\n",
    "       'UNFI Published Wholesale','Sales', 'Units']\n",
    "\n",
    "df = pd.read_excel(path,skiprows=12, usecols=use_cols)\n",
    "df.dropna(subset=['Customer Name'], inplace=True)\n",
    "\n",
    "df['Chain Name'].fillna(df['Customer Name'], inplace=True)\n",
    "\n",
    "df['Year'] = 2024\n",
    "\n",
    "df['MonthNum'] = 6\n",
    "df['Month'] = 'June'\n",
    "\n",
    "jun24 = df[['Month','MonthNum','Year','Region', 'Channel', 'Chain Name','Customer Name', 'Address', 'City', 'State',\n",
    "       'Zip Code', 'Warehouse', 'MFG PROD CD', 'Brand','Prod #', 'Description', 'Pack', 'Size',\n",
    "       'UNFI Published Wholesale','Sales', 'Units']]"
   ]
  },
  {
   "cell_type": "code",
   "execution_count": 40,
   "id": "1be9a282",
   "metadata": {},
   "outputs": [],
   "source": [
    "path = r\"C:\\Users\\mikej\\Downloads\\unfi_july_2024.xlsx\"\n",
    "\n",
    "use_cols = ['Region', 'Channel', 'Chain Name','Customer Name', 'Address', 'City', 'State',\n",
    "       'Zip Code', 'Warehouse', 'MFG PROD CD', 'Brand','Prod #', 'Description', 'Pack', 'Size',\n",
    "       'UNFI Published Wholesale','Sales', 'Units']\n",
    "\n",
    "df = pd.read_excel(path,skiprows=12, usecols=use_cols)\n",
    "df.dropna(subset=['Customer Name'], inplace=True)\n",
    "\n",
    "df['Chain Name'].fillna(df['Customer Name'], inplace=True)\n",
    "\n",
    "df['Year'] = 2024\n",
    "\n",
    "df['MonthNum'] = 7\n",
    "df['Month'] = 'July'\n",
    "\n",
    "jul24 = df[['Month','MonthNum','Year','Region', 'Channel', 'Chain Name','Customer Name', 'Address', 'City', 'State',\n",
    "       'Zip Code', 'Warehouse', 'MFG PROD CD', 'Brand','Prod #', 'Description', 'Pack', 'Size',\n",
    "       'UNFI Published Wholesale','Sales', 'Units']]"
   ]
  },
  {
   "cell_type": "code",
   "execution_count": 41,
   "id": "96275130",
   "metadata": {},
   "outputs": [
    {
     "data": {
      "text/html": [
       "<div>\n",
       "<style scoped>\n",
       "    .dataframe tbody tr th:only-of-type {\n",
       "        vertical-align: middle;\n",
       "    }\n",
       "\n",
       "    .dataframe tbody tr th {\n",
       "        vertical-align: top;\n",
       "    }\n",
       "\n",
       "    .dataframe thead th {\n",
       "        text-align: right;\n",
       "    }\n",
       "</style>\n",
       "<table border=\"1\" class=\"dataframe\">\n",
       "  <thead>\n",
       "    <tr style=\"text-align: right;\">\n",
       "      <th></th>\n",
       "      <th>Month</th>\n",
       "      <th>MonthNum</th>\n",
       "      <th>Year</th>\n",
       "      <th>Region</th>\n",
       "      <th>Channel</th>\n",
       "      <th>Chain Name</th>\n",
       "      <th>Customer Name</th>\n",
       "      <th>Address</th>\n",
       "      <th>City</th>\n",
       "      <th>State</th>\n",
       "      <th>...</th>\n",
       "      <th>Warehouse</th>\n",
       "      <th>MFG PROD CD</th>\n",
       "      <th>Brand</th>\n",
       "      <th>Prod #</th>\n",
       "      <th>Description</th>\n",
       "      <th>Pack</th>\n",
       "      <th>Size</th>\n",
       "      <th>UNFI Published Wholesale</th>\n",
       "      <th>Sales</th>\n",
       "      <th>Units</th>\n",
       "    </tr>\n",
       "  </thead>\n",
       "  <tbody>\n",
       "    <tr>\n",
       "      <th>0</th>\n",
       "      <td>July</td>\n",
       "      <td>7</td>\n",
       "      <td>2024</td>\n",
       "      <td>East</td>\n",
       "      <td>Independents</td>\n",
       "      <td>INERGY MARKET</td>\n",
       "      <td>INERGY MARKET</td>\n",
       "      <td>8310 E OAK ISLAND DR</td>\n",
       "      <td>OAK ISLAND</td>\n",
       "      <td>NC</td>\n",
       "      <td>...</td>\n",
       "      <td>ATL</td>\n",
       "      <td>800.0</td>\n",
       "      <td>WILDES</td>\n",
       "      <td>239770.0</td>\n",
       "      <td>PROTEIN CHIPS,WAFFLES</td>\n",
       "      <td>12.0</td>\n",
       "      <td>2.25 OZ</td>\n",
       "      <td>53.42</td>\n",
       "      <td>53.42</td>\n",
       "      <td>1.0</td>\n",
       "    </tr>\n",
       "    <tr>\n",
       "      <th>1</th>\n",
       "      <td>July</td>\n",
       "      <td>7</td>\n",
       "      <td>2024</td>\n",
       "      <td>East</td>\n",
       "      <td>Independents</td>\n",
       "      <td>HEALTH SHOPPE</td>\n",
       "      <td>HEALTH SHOPPE</td>\n",
       "      <td>8025 KINGSTON PIKE</td>\n",
       "      <td>KNOXVILLE</td>\n",
       "      <td>TN</td>\n",
       "      <td>...</td>\n",
       "      <td>ATL</td>\n",
       "      <td>800.0</td>\n",
       "      <td>WILDES</td>\n",
       "      <td>239770.0</td>\n",
       "      <td>PROTEIN CHIPS,WAFFLES</td>\n",
       "      <td>12.0</td>\n",
       "      <td>2.25 OZ</td>\n",
       "      <td>53.42</td>\n",
       "      <td>53.93</td>\n",
       "      <td>1.0</td>\n",
       "    </tr>\n",
       "    <tr>\n",
       "      <th>2</th>\n",
       "      <td>July</td>\n",
       "      <td>7</td>\n",
       "      <td>2024</td>\n",
       "      <td>East</td>\n",
       "      <td>Independents</td>\n",
       "      <td>GARDEN OF EAT'N</td>\n",
       "      <td>GARDEN OF EAT'N</td>\n",
       "      <td>140 SW BROAD STREET</td>\n",
       "      <td>JESUP</td>\n",
       "      <td>GA</td>\n",
       "      <td>...</td>\n",
       "      <td>ATL</td>\n",
       "      <td>801.0</td>\n",
       "      <td>WILDES</td>\n",
       "      <td>239771.0</td>\n",
       "      <td>PROTIEN CHIPS,HIMLYAN SLT</td>\n",
       "      <td>12.0</td>\n",
       "      <td>2.25 OZ</td>\n",
       "      <td>53.42</td>\n",
       "      <td>53.93</td>\n",
       "      <td>1.0</td>\n",
       "    </tr>\n",
       "    <tr>\n",
       "      <th>3</th>\n",
       "      <td>July</td>\n",
       "      <td>7</td>\n",
       "      <td>2024</td>\n",
       "      <td>East</td>\n",
       "      <td>Independents</td>\n",
       "      <td>SAWYER GARDEN CENTER</td>\n",
       "      <td>SAWYER GARDEN CENTER</td>\n",
       "      <td>5865 SAWYER RD.</td>\n",
       "      <td>SAWYER</td>\n",
       "      <td>MI</td>\n",
       "      <td>...</td>\n",
       "      <td>GRW</td>\n",
       "      <td>801.0</td>\n",
       "      <td>WILDES</td>\n",
       "      <td>239771.0</td>\n",
       "      <td>PROTIEN CHIPS,HIMLYAN SLT</td>\n",
       "      <td>12.0</td>\n",
       "      <td>2.25 OZ</td>\n",
       "      <td>106.84</td>\n",
       "      <td>107.35</td>\n",
       "      <td>2.0</td>\n",
       "    </tr>\n",
       "    <tr>\n",
       "      <th>4</th>\n",
       "      <td>July</td>\n",
       "      <td>7</td>\n",
       "      <td>2024</td>\n",
       "      <td>East</td>\n",
       "      <td>Independents</td>\n",
       "      <td>SCHIAVONI'S MARKET INC</td>\n",
       "      <td>SCHIAVONI'S MARKET INC</td>\n",
       "      <td>PO BOX 557</td>\n",
       "      <td>SAG HARBOR</td>\n",
       "      <td>NY</td>\n",
       "      <td>...</td>\n",
       "      <td>HOW</td>\n",
       "      <td>801.0</td>\n",
       "      <td>WILDES</td>\n",
       "      <td>239771.0</td>\n",
       "      <td>PROTIEN CHIPS,HIMLYAN SLT</td>\n",
       "      <td>12.0</td>\n",
       "      <td>2.25 OZ</td>\n",
       "      <td>53.42</td>\n",
       "      <td>51.28</td>\n",
       "      <td>1.0</td>\n",
       "    </tr>\n",
       "    <tr>\n",
       "      <th>...</th>\n",
       "      <td>...</td>\n",
       "      <td>...</td>\n",
       "      <td>...</td>\n",
       "      <td>...</td>\n",
       "      <td>...</td>\n",
       "      <td>...</td>\n",
       "      <td>...</td>\n",
       "      <td>...</td>\n",
       "      <td>...</td>\n",
       "      <td>...</td>\n",
       "      <td>...</td>\n",
       "      <td>...</td>\n",
       "      <td>...</td>\n",
       "      <td>...</td>\n",
       "      <td>...</td>\n",
       "      <td>...</td>\n",
       "      <td>...</td>\n",
       "      <td>...</td>\n",
       "      <td>...</td>\n",
       "      <td>...</td>\n",
       "      <td>...</td>\n",
       "    </tr>\n",
       "    <tr>\n",
       "      <th>7290</th>\n",
       "      <td>July</td>\n",
       "      <td>7</td>\n",
       "      <td>2024</td>\n",
       "      <td>West</td>\n",
       "      <td>Natural - Chain</td>\n",
       "      <td>VITAMIN PLUS</td>\n",
       "      <td>VITAMINS PLUS 210</td>\n",
       "      <td>5819 E KINGS HWY</td>\n",
       "      <td>SHREVEPORT</td>\n",
       "      <td>LA</td>\n",
       "      <td>...</td>\n",
       "      <td>LAN</td>\n",
       "      <td>31.0</td>\n",
       "      <td>WILDE</td>\n",
       "      <td>3375.0</td>\n",
       "      <td>WLD BUFFALO PROTN CHIPS</td>\n",
       "      <td>12.0</td>\n",
       "      <td>12/2.25OZ</td>\n",
       "      <td>51.77</td>\n",
       "      <td>42.45</td>\n",
       "      <td>1.0</td>\n",
       "    </tr>\n",
       "    <tr>\n",
       "      <th>7291</th>\n",
       "      <td>July</td>\n",
       "      <td>7</td>\n",
       "      <td>2024</td>\n",
       "      <td>West</td>\n",
       "      <td>Natural - Chain</td>\n",
       "      <td>VITAMIN PLUS</td>\n",
       "      <td>VITAMINS PLUS 210</td>\n",
       "      <td>5819 E KINGS HWY</td>\n",
       "      <td>SHREVEPORT</td>\n",
       "      <td>LA</td>\n",
       "      <td>...</td>\n",
       "      <td>LAN</td>\n",
       "      <td>34.0</td>\n",
       "      <td>WILDE</td>\n",
       "      <td>8900.0</td>\n",
       "      <td>WLD SSLT VNGR PROTN CHP</td>\n",
       "      <td>12.0</td>\n",
       "      <td>12/2.25OZ</td>\n",
       "      <td>51.77</td>\n",
       "      <td>42.45</td>\n",
       "      <td>1.0</td>\n",
       "    </tr>\n",
       "    <tr>\n",
       "      <th>7293</th>\n",
       "      <td>July</td>\n",
       "      <td>7</td>\n",
       "      <td>2024</td>\n",
       "      <td>West</td>\n",
       "      <td>E-Commerce</td>\n",
       "      <td>VITACOST</td>\n",
       "      <td>VITACOST.COM (WAVE SEPARATE)</td>\n",
       "      <td>C/O GARY GRAY</td>\n",
       "      <td>LAS VEGAS</td>\n",
       "      <td>NV</td>\n",
       "      <td>...</td>\n",
       "      <td>MOR</td>\n",
       "      <td>802.0</td>\n",
       "      <td>WILDE</td>\n",
       "      <td>55803.0</td>\n",
       "      <td>WLD NASH HOT PROTN CHIP</td>\n",
       "      <td>12.0</td>\n",
       "      <td>12/2.25OZ</td>\n",
       "      <td>103.54</td>\n",
       "      <td>79.86</td>\n",
       "      <td>2.0</td>\n",
       "    </tr>\n",
       "    <tr>\n",
       "      <th>7295</th>\n",
       "      <td>July</td>\n",
       "      <td>7</td>\n",
       "      <td>2024</td>\n",
       "      <td>West</td>\n",
       "      <td>E-Commerce</td>\n",
       "      <td>WEEE INC</td>\n",
       "      <td>WEEE LA DRY</td>\n",
       "      <td>C/O HAO EARLEY</td>\n",
       "      <td>LA MIRADA</td>\n",
       "      <td>CA</td>\n",
       "      <td>...</td>\n",
       "      <td>MOR</td>\n",
       "      <td>801.0</td>\n",
       "      <td>WILDE</td>\n",
       "      <td>55802.0</td>\n",
       "      <td>WLD HIM SSLT PROTN CHIP</td>\n",
       "      <td>12.0</td>\n",
       "      <td>12/2.25OZ</td>\n",
       "      <td>103.54</td>\n",
       "      <td>93.96</td>\n",
       "      <td>2.0</td>\n",
       "    </tr>\n",
       "    <tr>\n",
       "      <th>7296</th>\n",
       "      <td>July</td>\n",
       "      <td>7</td>\n",
       "      <td>2024</td>\n",
       "      <td>West</td>\n",
       "      <td>E-Commerce</td>\n",
       "      <td>WEEE INC</td>\n",
       "      <td>WEEE LA DRY</td>\n",
       "      <td>C/O HAO EARLEY</td>\n",
       "      <td>LA MIRADA</td>\n",
       "      <td>CA</td>\n",
       "      <td>...</td>\n",
       "      <td>MOR</td>\n",
       "      <td>34.0</td>\n",
       "      <td>WILDE</td>\n",
       "      <td>8900.0</td>\n",
       "      <td>WLD SSLT VNGR PROTN CHP</td>\n",
       "      <td>12.0</td>\n",
       "      <td>12/2.25OZ</td>\n",
       "      <td>103.54</td>\n",
       "      <td>93.96</td>\n",
       "      <td>2.0</td>\n",
       "    </tr>\n",
       "  </tbody>\n",
       "</table>\n",
       "<p>7149 rows × 21 columns</p>\n",
       "</div>"
      ],
      "text/plain": [
       "     Month  MonthNum  Year Region          Channel                 Chain Name  \\\n",
       "0     July         7  2024   East     Independents  INERGY MARKET               \n",
       "1     July         7  2024   East     Independents  HEALTH SHOPPE               \n",
       "2     July         7  2024   East     Independents  GARDEN OF EAT'N             \n",
       "3     July         7  2024   East     Independents  SAWYER GARDEN CENTER        \n",
       "4     July         7  2024   East     Independents  SCHIAVONI'S MARKET INC      \n",
       "...    ...       ...   ...    ...              ...                        ...   \n",
       "7290  July         7  2024   West  Natural - Chain               VITAMIN PLUS   \n",
       "7291  July         7  2024   West  Natural - Chain               VITAMIN PLUS   \n",
       "7293  July         7  2024   West       E-Commerce                   VITACOST   \n",
       "7295  July         7  2024   West       E-Commerce                   WEEE INC   \n",
       "7296  July         7  2024   West       E-Commerce                   WEEE INC   \n",
       "\n",
       "                     Customer Name                       Address  \\\n",
       "0        INERGY MARKET                 8310 E OAK ISLAND DR        \n",
       "1        HEALTH SHOPPE                 8025 KINGSTON PIKE          \n",
       "2        GARDEN OF EAT'N               140 SW BROAD STREET         \n",
       "3        SAWYER GARDEN CENTER          5865 SAWYER RD.             \n",
       "4        SCHIAVONI'S MARKET INC        PO BOX 557                  \n",
       "...                            ...                           ...   \n",
       "7290  VITAMINS PLUS 210             5819 E KINGS HWY               \n",
       "7291  VITAMINS PLUS 210             5819 E KINGS HWY               \n",
       "7293  VITACOST.COM (WAVE SEPARATE)  C/O GARY GRAY                  \n",
       "7295  WEEE LA DRY                   C/O HAO EARLEY                 \n",
       "7296  WEEE LA DRY                   C/O HAO EARLEY                 \n",
       "\n",
       "                    City State  ... Warehouse MFG PROD CD   Brand    Prod #  \\\n",
       "0      OAK ISLAND           NC  ...       ATL       800.0  WILDES  239770.0   \n",
       "1      KNOXVILLE            TN  ...       ATL       800.0  WILDES  239770.0   \n",
       "2      JESUP                GA  ...       ATL       801.0  WILDES  239771.0   \n",
       "3      SAWYER               MI  ...       GRW       801.0  WILDES  239771.0   \n",
       "4      SAG HARBOR           NY  ...       HOW       801.0  WILDES  239771.0   \n",
       "...                  ...   ...  ...       ...         ...     ...       ...   \n",
       "7290  SHREVEPORT            LA  ...       LAN        31.0   WILDE    3375.0   \n",
       "7291  SHREVEPORT            LA  ...       LAN        34.0   WILDE    8900.0   \n",
       "7293  LAS VEGAS             NV  ...       MOR       802.0   WILDE   55803.0   \n",
       "7295  LA MIRADA             CA  ...       MOR       801.0   WILDE   55802.0   \n",
       "7296  LA MIRADA             CA  ...       MOR        34.0   WILDE    8900.0   \n",
       "\n",
       "                    Description  Pack       Size UNFI Published Wholesale  \\\n",
       "0     PROTEIN CHIPS,WAFFLES      12.0   2.25 OZ                     53.42   \n",
       "1     PROTEIN CHIPS,WAFFLES      12.0   2.25 OZ                     53.42   \n",
       "2     PROTIEN CHIPS,HIMLYAN SLT  12.0   2.25 OZ                     53.42   \n",
       "3     PROTIEN CHIPS,HIMLYAN SLT  12.0   2.25 OZ                    106.84   \n",
       "4     PROTIEN CHIPS,HIMLYAN SLT  12.0   2.25 OZ                     53.42   \n",
       "...                         ...   ...        ...                      ...   \n",
       "7290    WLD BUFFALO PROTN CHIPS  12.0  12/2.25OZ                    51.77   \n",
       "7291    WLD SSLT VNGR PROTN CHP  12.0  12/2.25OZ                    51.77   \n",
       "7293    WLD NASH HOT PROTN CHIP  12.0  12/2.25OZ                   103.54   \n",
       "7295    WLD HIM SSLT PROTN CHIP  12.0  12/2.25OZ                   103.54   \n",
       "7296    WLD SSLT VNGR PROTN CHP  12.0  12/2.25OZ                   103.54   \n",
       "\n",
       "       Sales  Units  \n",
       "0      53.42    1.0  \n",
       "1      53.93    1.0  \n",
       "2      53.93    1.0  \n",
       "3     107.35    2.0  \n",
       "4      51.28    1.0  \n",
       "...      ...    ...  \n",
       "7290   42.45    1.0  \n",
       "7291   42.45    1.0  \n",
       "7293   79.86    2.0  \n",
       "7295   93.96    2.0  \n",
       "7296   93.96    2.0  \n",
       "\n",
       "[7149 rows x 21 columns]"
      ]
     },
     "execution_count": 41,
     "metadata": {},
     "output_type": "execute_result"
    }
   ],
   "source": [
    "jul24"
   ]
  },
  {
   "cell_type": "code",
   "execution_count": 54,
   "id": "a750d4c1",
   "metadata": {},
   "outputs": [],
   "source": [
    "# concat all\n",
    "\n",
    "unfi_clean = pd.concat([jun23,jul23,aug23,sep23,\n",
    "                        oct23,nov23,dec23,jan24,\n",
    "                        feb24,mar24,apr24,may24,\n",
    "                        jun24,jul24], axis=0).convert_dtypes()"
   ]
  },
  {
   "cell_type": "code",
   "execution_count": 55,
   "id": "cc45b9e9",
   "metadata": {},
   "outputs": [
    {
     "data": {
      "text/plain": [
       "Index(['Month', 'MonthNum', 'Year', 'Region', 'Channel', 'Chain Name',\n",
       "       'Customer Name', 'Address', 'City', 'State', 'Zip Code', 'Warehouse',\n",
       "       'MFG PROD CD', 'Brand', 'Prod #', 'Description', 'Pack', 'Size',\n",
       "       'UNFI Published Wholesale', 'Sales', 'Units'],\n",
       "      dtype='object')"
      ]
     },
     "execution_count": 55,
     "metadata": {},
     "output_type": "execute_result"
    }
   ],
   "source": [
    "unfi_clean.columns"
   ]
  },
  {
   "cell_type": "code",
   "execution_count": 56,
   "id": "6d40d680",
   "metadata": {},
   "outputs": [],
   "source": [
    "# clean the Size column\n",
    "\n",
    "def clean_size(size):\n",
    "    size = size.replace(' ', '').upper()  # Remove spaces and standardize case\n",
    "    if '2.25' in size:\n",
    "        return '2.25 OZ'\n",
    "    elif '1.34' in size:\n",
    "        return '1.34 OZ'\n",
    "    else:\n",
    "        return '4 OZ'  # Return the size as is if it doesn't match any condition\n",
    "    \n",
    "unfi_clean['Size'] = unfi_clean['Size'].apply(clean_size).convert_dtypes()"
   ]
  },
  {
   "cell_type": "code",
   "execution_count": 57,
   "id": "ddaebc7b",
   "metadata": {},
   "outputs": [],
   "source": [
    "#  add month_year column\n",
    "\n",
    "unfi_clean['MonthYear'] = unfi_clean['MonthNum'].astype(str).str.zfill(2) + '-' + unfi_clean['Year'].astype(str)"
   ]
  },
  {
   "cell_type": "code",
   "execution_count": 58,
   "id": "731be947",
   "metadata": {},
   "outputs": [],
   "source": [
    "# Function to map categories to \"Grocery\" or keep them the same\n",
    "def categorize(segment):\n",
    "\n",
    "    grocery_segments = ['Independents', 'SuperMarket Independent', 'SuperMarket Chain', \n",
    "                          'Natural - Chain', 'SuperMarket']\n",
    "    away_from_home_segments = ['Food Service', 'Alternative Channel']\n",
    "\n",
    "    if segment in grocery_segments:\n",
    "        return 'Grocery'\n",
    "    elif segment in away_from_home_segments:\n",
    "        return 'Away From Home'\n",
    "    else:\n",
    "        return 'Other'\n",
    "    \n",
    "unfi_clean.rename(columns = {'Channel':'Segment'}, inplace = True)\n",
    "    \n",
    "# Apply the function to create a new column\n",
    "unfi_clean['Channel'] = unfi_clean['Segment'].apply(categorize)"
   ]
  },
  {
   "cell_type": "code",
   "execution_count": 59,
   "id": "c398f785",
   "metadata": {},
   "outputs": [
    {
     "data": {
      "text/html": [
       "<div>\n",
       "<style scoped>\n",
       "    .dataframe tbody tr th:only-of-type {\n",
       "        vertical-align: middle;\n",
       "    }\n",
       "\n",
       "    .dataframe tbody tr th {\n",
       "        vertical-align: top;\n",
       "    }\n",
       "\n",
       "    .dataframe thead th {\n",
       "        text-align: right;\n",
       "    }\n",
       "</style>\n",
       "<table border=\"1\" class=\"dataframe\">\n",
       "  <thead>\n",
       "    <tr style=\"text-align: right;\">\n",
       "      <th></th>\n",
       "      <th>Month</th>\n",
       "      <th>MonthNum</th>\n",
       "      <th>Year</th>\n",
       "      <th>Region</th>\n",
       "      <th>Segment</th>\n",
       "      <th>Chain Name</th>\n",
       "      <th>Customer Name</th>\n",
       "      <th>Address</th>\n",
       "      <th>City</th>\n",
       "      <th>State</th>\n",
       "      <th>...</th>\n",
       "      <th>Brand</th>\n",
       "      <th>Prod #</th>\n",
       "      <th>Description</th>\n",
       "      <th>Pack</th>\n",
       "      <th>Size</th>\n",
       "      <th>UNFI Published Wholesale</th>\n",
       "      <th>Sales</th>\n",
       "      <th>Units</th>\n",
       "      <th>MonthYear</th>\n",
       "      <th>Channel</th>\n",
       "    </tr>\n",
       "  </thead>\n",
       "  <tbody>\n",
       "    <tr>\n",
       "      <th>0</th>\n",
       "      <td>June</td>\n",
       "      <td>6</td>\n",
       "      <td>2023</td>\n",
       "      <td>East</td>\n",
       "      <td>Independents</td>\n",
       "      <td>HARVEST TIME</td>\n",
       "      <td>HARVEST TIME</td>\n",
       "      <td>171 CAPITOL ST.</td>\n",
       "      <td>AUGUSTA</td>\n",
       "      <td>ME</td>\n",
       "      <td>...</td>\n",
       "      <td>WILDES</td>\n",
       "      <td>239770</td>\n",
       "      <td>PROTEIN CHIPS,WAFFLES</td>\n",
       "      <td>12</td>\n",
       "      <td>2.25 OZ</td>\n",
       "      <td>53.13</td>\n",
       "      <td>48.88</td>\n",
       "      <td>1</td>\n",
       "      <td>06-2023</td>\n",
       "      <td>Grocery</td>\n",
       "    </tr>\n",
       "    <tr>\n",
       "      <th>1</th>\n",
       "      <td>June</td>\n",
       "      <td>6</td>\n",
       "      <td>2023</td>\n",
       "      <td>East</td>\n",
       "      <td>Independents</td>\n",
       "      <td>NATURA U.S. INC</td>\n",
       "      <td>NATURA U.S. INC</td>\n",
       "      <td>4220 HYDE PARK BLVD</td>\n",
       "      <td>NIAGARA FALLS</td>\n",
       "      <td>NY</td>\n",
       "      <td>...</td>\n",
       "      <td>WILDES</td>\n",
       "      <td>239770</td>\n",
       "      <td>PROTEIN CHIPS,WAFFLES</td>\n",
       "      <td>12</td>\n",
       "      <td>2.25 OZ</td>\n",
       "      <td>531.3</td>\n",
       "      <td>451.6</td>\n",
       "      <td>10</td>\n",
       "      <td>06-2023</td>\n",
       "      <td>Grocery</td>\n",
       "    </tr>\n",
       "    <tr>\n",
       "      <th>2</th>\n",
       "      <td>June</td>\n",
       "      <td>6</td>\n",
       "      <td>2023</td>\n",
       "      <td>East</td>\n",
       "      <td>Independents</td>\n",
       "      <td>WHOLESOME EARTH</td>\n",
       "      <td>WHOLESOME EARTH</td>\n",
       "      <td>465 EAST MAIN STREET</td>\n",
       "      <td>DAHLONGA</td>\n",
       "      <td>GA</td>\n",
       "      <td>...</td>\n",
       "      <td>WILDES</td>\n",
       "      <td>239771</td>\n",
       "      <td>PROTIEN CHIPS,HIMLYAN SLT</td>\n",
       "      <td>12</td>\n",
       "      <td>2.25 OZ</td>\n",
       "      <td>53.13</td>\n",
       "      <td>53.13</td>\n",
       "      <td>1</td>\n",
       "      <td>06-2023</td>\n",
       "      <td>Grocery</td>\n",
       "    </tr>\n",
       "    <tr>\n",
       "      <th>3</th>\n",
       "      <td>June</td>\n",
       "      <td>6</td>\n",
       "      <td>2023</td>\n",
       "      <td>East</td>\n",
       "      <td>Independents</td>\n",
       "      <td>NATURA U.S. INC</td>\n",
       "      <td>NATURA U.S. INC</td>\n",
       "      <td>4220 HYDE PARK BLVD</td>\n",
       "      <td>NIAGARA FALLS</td>\n",
       "      <td>NY</td>\n",
       "      <td>...</td>\n",
       "      <td>WILDES</td>\n",
       "      <td>239771</td>\n",
       "      <td>PROTIEN CHIPS,HIMLYAN SLT</td>\n",
       "      <td>12</td>\n",
       "      <td>2.25 OZ</td>\n",
       "      <td>796.95</td>\n",
       "      <td>677.4</td>\n",
       "      <td>15</td>\n",
       "      <td>06-2023</td>\n",
       "      <td>Grocery</td>\n",
       "    </tr>\n",
       "    <tr>\n",
       "      <th>4</th>\n",
       "      <td>June</td>\n",
       "      <td>6</td>\n",
       "      <td>2023</td>\n",
       "      <td>East</td>\n",
       "      <td>Independents</td>\n",
       "      <td>NATURA U.S. INC</td>\n",
       "      <td>NATURA U.S. INC</td>\n",
       "      <td>4220 HYDE PARK BLVD</td>\n",
       "      <td>NIAGARA FALLS</td>\n",
       "      <td>NY</td>\n",
       "      <td>...</td>\n",
       "      <td>WILDES</td>\n",
       "      <td>240634</td>\n",
       "      <td>PROTEIN CHIPS,NASHVIL HOT</td>\n",
       "      <td>12</td>\n",
       "      <td>2.25 OZ</td>\n",
       "      <td>106.26</td>\n",
       "      <td>90.32</td>\n",
       "      <td>2</td>\n",
       "      <td>06-2023</td>\n",
       "      <td>Grocery</td>\n",
       "    </tr>\n",
       "    <tr>\n",
       "      <th>...</th>\n",
       "      <td>...</td>\n",
       "      <td>...</td>\n",
       "      <td>...</td>\n",
       "      <td>...</td>\n",
       "      <td>...</td>\n",
       "      <td>...</td>\n",
       "      <td>...</td>\n",
       "      <td>...</td>\n",
       "      <td>...</td>\n",
       "      <td>...</td>\n",
       "      <td>...</td>\n",
       "      <td>...</td>\n",
       "      <td>...</td>\n",
       "      <td>...</td>\n",
       "      <td>...</td>\n",
       "      <td>...</td>\n",
       "      <td>...</td>\n",
       "      <td>...</td>\n",
       "      <td>...</td>\n",
       "      <td>...</td>\n",
       "      <td>...</td>\n",
       "    </tr>\n",
       "    <tr>\n",
       "      <th>7290</th>\n",
       "      <td>July</td>\n",
       "      <td>7</td>\n",
       "      <td>2024</td>\n",
       "      <td>West</td>\n",
       "      <td>Natural - Chain</td>\n",
       "      <td>VITAMIN PLUS</td>\n",
       "      <td>VITAMINS PLUS 210</td>\n",
       "      <td>5819 E KINGS HWY</td>\n",
       "      <td>SHREVEPORT</td>\n",
       "      <td>LA</td>\n",
       "      <td>...</td>\n",
       "      <td>WILDE</td>\n",
       "      <td>3375</td>\n",
       "      <td>WLD BUFFALO PROTN CHIPS</td>\n",
       "      <td>12</td>\n",
       "      <td>2.25 OZ</td>\n",
       "      <td>51.77</td>\n",
       "      <td>42.45</td>\n",
       "      <td>1</td>\n",
       "      <td>07-2024</td>\n",
       "      <td>Grocery</td>\n",
       "    </tr>\n",
       "    <tr>\n",
       "      <th>7291</th>\n",
       "      <td>July</td>\n",
       "      <td>7</td>\n",
       "      <td>2024</td>\n",
       "      <td>West</td>\n",
       "      <td>Natural - Chain</td>\n",
       "      <td>VITAMIN PLUS</td>\n",
       "      <td>VITAMINS PLUS 210</td>\n",
       "      <td>5819 E KINGS HWY</td>\n",
       "      <td>SHREVEPORT</td>\n",
       "      <td>LA</td>\n",
       "      <td>...</td>\n",
       "      <td>WILDE</td>\n",
       "      <td>8900</td>\n",
       "      <td>WLD SSLT VNGR PROTN CHP</td>\n",
       "      <td>12</td>\n",
       "      <td>2.25 OZ</td>\n",
       "      <td>51.77</td>\n",
       "      <td>42.45</td>\n",
       "      <td>1</td>\n",
       "      <td>07-2024</td>\n",
       "      <td>Grocery</td>\n",
       "    </tr>\n",
       "    <tr>\n",
       "      <th>7293</th>\n",
       "      <td>July</td>\n",
       "      <td>7</td>\n",
       "      <td>2024</td>\n",
       "      <td>West</td>\n",
       "      <td>E-Commerce</td>\n",
       "      <td>VITACOST</td>\n",
       "      <td>VITACOST.COM (WAVE SEPARATE)</td>\n",
       "      <td>C/O GARY GRAY</td>\n",
       "      <td>LAS VEGAS</td>\n",
       "      <td>NV</td>\n",
       "      <td>...</td>\n",
       "      <td>WILDE</td>\n",
       "      <td>55803</td>\n",
       "      <td>WLD NASH HOT PROTN CHIP</td>\n",
       "      <td>12</td>\n",
       "      <td>2.25 OZ</td>\n",
       "      <td>103.54</td>\n",
       "      <td>79.86</td>\n",
       "      <td>2</td>\n",
       "      <td>07-2024</td>\n",
       "      <td>Other</td>\n",
       "    </tr>\n",
       "    <tr>\n",
       "      <th>7295</th>\n",
       "      <td>July</td>\n",
       "      <td>7</td>\n",
       "      <td>2024</td>\n",
       "      <td>West</td>\n",
       "      <td>E-Commerce</td>\n",
       "      <td>WEEE INC</td>\n",
       "      <td>WEEE LA DRY</td>\n",
       "      <td>C/O HAO EARLEY</td>\n",
       "      <td>LA MIRADA</td>\n",
       "      <td>CA</td>\n",
       "      <td>...</td>\n",
       "      <td>WILDE</td>\n",
       "      <td>55802</td>\n",
       "      <td>WLD HIM SSLT PROTN CHIP</td>\n",
       "      <td>12</td>\n",
       "      <td>2.25 OZ</td>\n",
       "      <td>103.54</td>\n",
       "      <td>93.96</td>\n",
       "      <td>2</td>\n",
       "      <td>07-2024</td>\n",
       "      <td>Other</td>\n",
       "    </tr>\n",
       "    <tr>\n",
       "      <th>7296</th>\n",
       "      <td>July</td>\n",
       "      <td>7</td>\n",
       "      <td>2024</td>\n",
       "      <td>West</td>\n",
       "      <td>E-Commerce</td>\n",
       "      <td>WEEE INC</td>\n",
       "      <td>WEEE LA DRY</td>\n",
       "      <td>C/O HAO EARLEY</td>\n",
       "      <td>LA MIRADA</td>\n",
       "      <td>CA</td>\n",
       "      <td>...</td>\n",
       "      <td>WILDE</td>\n",
       "      <td>8900</td>\n",
       "      <td>WLD SSLT VNGR PROTN CHP</td>\n",
       "      <td>12</td>\n",
       "      <td>2.25 OZ</td>\n",
       "      <td>103.54</td>\n",
       "      <td>93.96</td>\n",
       "      <td>2</td>\n",
       "      <td>07-2024</td>\n",
       "      <td>Other</td>\n",
       "    </tr>\n",
       "  </tbody>\n",
       "</table>\n",
       "<p>84921 rows × 23 columns</p>\n",
       "</div>"
      ],
      "text/plain": [
       "     Month  MonthNum  Year Region          Segment                 Chain Name  \\\n",
       "0     June         6  2023   East     Independents  HARVEST TIME                \n",
       "1     June         6  2023   East     Independents  NATURA U.S. INC             \n",
       "2     June         6  2023   East     Independents  WHOLESOME EARTH             \n",
       "3     June         6  2023   East     Independents  NATURA U.S. INC             \n",
       "4     June         6  2023   East     Independents  NATURA U.S. INC             \n",
       "...    ...       ...   ...    ...              ...                        ...   \n",
       "7290  July         7  2024   West  Natural - Chain               VITAMIN PLUS   \n",
       "7291  July         7  2024   West  Natural - Chain               VITAMIN PLUS   \n",
       "7293  July         7  2024   West       E-Commerce                   VITACOST   \n",
       "7295  July         7  2024   West       E-Commerce                   WEEE INC   \n",
       "7296  July         7  2024   West       E-Commerce                   WEEE INC   \n",
       "\n",
       "                     Customer Name                       Address  \\\n",
       "0        HARVEST TIME                  171 CAPITOL ST.             \n",
       "1        NATURA U.S. INC               4220 HYDE PARK BLVD         \n",
       "2        WHOLESOME EARTH               465 EAST MAIN STREET        \n",
       "3        NATURA U.S. INC               4220 HYDE PARK BLVD         \n",
       "4        NATURA U.S. INC               4220 HYDE PARK BLVD         \n",
       "...                            ...                           ...   \n",
       "7290  VITAMINS PLUS 210             5819 E KINGS HWY               \n",
       "7291  VITAMINS PLUS 210             5819 E KINGS HWY               \n",
       "7293  VITACOST.COM (WAVE SEPARATE)  C/O GARY GRAY                  \n",
       "7295  WEEE LA DRY                   C/O HAO EARLEY                 \n",
       "7296  WEEE LA DRY                   C/O HAO EARLEY                 \n",
       "\n",
       "                    City State  ...   Brand  Prod #  \\\n",
       "0      AUGUSTA              ME  ...  WILDES  239770   \n",
       "1      NIAGARA FALLS        NY  ...  WILDES  239770   \n",
       "2      DAHLONGA             GA  ...  WILDES  239771   \n",
       "3      NIAGARA FALLS        NY  ...  WILDES  239771   \n",
       "4      NIAGARA FALLS        NY  ...  WILDES  240634   \n",
       "...                  ...   ...  ...     ...     ...   \n",
       "7290  SHREVEPORT            LA  ...   WILDE    3375   \n",
       "7291  SHREVEPORT            LA  ...   WILDE    8900   \n",
       "7293  LAS VEGAS             NV  ...   WILDE   55803   \n",
       "7295  LA MIRADA             CA  ...   WILDE   55802   \n",
       "7296  LA MIRADA             CA  ...   WILDE    8900   \n",
       "\n",
       "                    Description Pack     Size UNFI Published Wholesale  Sales  \\\n",
       "0     PROTEIN CHIPS,WAFFLES       12  2.25 OZ                    53.13  48.88   \n",
       "1     PROTEIN CHIPS,WAFFLES       12  2.25 OZ                    531.3  451.6   \n",
       "2     PROTIEN CHIPS,HIMLYAN SLT   12  2.25 OZ                    53.13  53.13   \n",
       "3     PROTIEN CHIPS,HIMLYAN SLT   12  2.25 OZ                   796.95  677.4   \n",
       "4     PROTEIN CHIPS,NASHVIL HOT   12  2.25 OZ                   106.26  90.32   \n",
       "...                         ...  ...      ...                      ...    ...   \n",
       "7290    WLD BUFFALO PROTN CHIPS   12  2.25 OZ                    51.77  42.45   \n",
       "7291    WLD SSLT VNGR PROTN CHP   12  2.25 OZ                    51.77  42.45   \n",
       "7293    WLD NASH HOT PROTN CHIP   12  2.25 OZ                   103.54  79.86   \n",
       "7295    WLD HIM SSLT PROTN CHIP   12  2.25 OZ                   103.54  93.96   \n",
       "7296    WLD SSLT VNGR PROTN CHP   12  2.25 OZ                   103.54  93.96   \n",
       "\n",
       "     Units  MonthYear  Channel  \n",
       "0        1    06-2023  Grocery  \n",
       "1       10    06-2023  Grocery  \n",
       "2        1    06-2023  Grocery  \n",
       "3       15    06-2023  Grocery  \n",
       "4        2    06-2023  Grocery  \n",
       "...    ...        ...      ...  \n",
       "7290     1    07-2024  Grocery  \n",
       "7291     1    07-2024  Grocery  \n",
       "7293     2    07-2024    Other  \n",
       "7295     2    07-2024    Other  \n",
       "7296     2    07-2024    Other  \n",
       "\n",
       "[84921 rows x 23 columns]"
      ]
     },
     "execution_count": 59,
     "metadata": {},
     "output_type": "execute_result"
    }
   ],
   "source": [
    "unfi_clean"
   ]
  },
  {
   "cell_type": "code",
   "execution_count": 60,
   "id": "baef69dd",
   "metadata": {},
   "outputs": [
    {
     "data": {
      "text/plain": [
       "23"
      ]
     },
     "execution_count": 60,
     "metadata": {},
     "output_type": "execute_result"
    }
   ],
   "source": [
    "len(unfi_clean.columns)"
   ]
  },
  {
   "cell_type": "code",
   "execution_count": 61,
   "id": "a0ef8a50",
   "metadata": {},
   "outputs": [],
   "source": [
    "unfi_clean.to_csv(r\"C:\\Users\\mikej\\Desktop\\unfi\\unfi_clean.csv\", index=False)"
   ]
  },
  {
   "cell_type": "code",
   "execution_count": 62,
   "id": "013cdede",
   "metadata": {},
   "outputs": [
    {
     "data": {
      "application/vnd.plotly.v1+json": {
       "config": {
        "plotlyServerURL": "https://plot.ly"
       },
       "data": [
        {
         "alignmentgroup": "True",
         "hovertemplate": "=%{y}<br>Year=%{marker.color}<extra></extra>",
         "legendgroup": "",
         "marker": {
          "color": [
           2023,
           2023,
           2023,
           2023,
           2023,
           2023,
           2023,
           2024,
           2024,
           2024,
           2024,
           2024,
           2024,
           2024
          ],
          "coloraxis": "coloraxis",
          "pattern": {
           "shape": ""
          }
         },
         "name": "",
         "offsetgroup": "",
         "orientation": "v",
         "showlegend": false,
         "textposition": "auto",
         "texttemplate": "%{y:.3s}",
         "type": "bar",
         "x": [
          "06-2023",
          "07-2023",
          "08-2023",
          "09-2023",
          "10-2023",
          "11-2023",
          "12-2023",
          "01-2024",
          "02-2024",
          "03-2024",
          "04-2024",
          "05-2024",
          "06-2024",
          "07-2024"
         ],
         "xaxis": "x",
         "y": [
          473079.95,
          787013.51,
          412413.7,
          472826.59,
          470402.9,
          438063.28,
          333401.82,
          575875.99,
          502292.51,
          696171.02,
          510139.9,
          881281.56,
          523407.63,
          1027875.08
         ],
         "yaxis": "y"
        }
       ],
       "layout": {
        "barmode": "relative",
        "coloraxis": {
         "colorbar": {
          "title": {
           "text": "Year"
          }
         },
         "colorscale": [
          [
           0,
           "#0d0887"
          ],
          [
           0.1111111111111111,
           "#46039f"
          ],
          [
           0.2222222222222222,
           "#7201a8"
          ],
          [
           0.3333333333333333,
           "#9c179e"
          ],
          [
           0.4444444444444444,
           "#bd3786"
          ],
          [
           0.5555555555555556,
           "#d8576b"
          ],
          [
           0.6666666666666666,
           "#ed7953"
          ],
          [
           0.7777777777777778,
           "#fb9f3a"
          ],
          [
           0.8888888888888888,
           "#fdca26"
          ],
          [
           1,
           "#f0f921"
          ]
         ],
         "showscale": false
        },
        "height": 400,
        "legend": {
         "tracegroupgap": 0
        },
        "template": {
         "data": {
          "bar": [
           {
            "error_x": {
             "color": "#2a3f5f"
            },
            "error_y": {
             "color": "#2a3f5f"
            },
            "marker": {
             "line": {
              "color": "white",
              "width": 0.5
             },
             "pattern": {
              "fillmode": "overlay",
              "size": 10,
              "solidity": 0.2
             }
            },
            "type": "bar"
           }
          ],
          "barpolar": [
           {
            "marker": {
             "line": {
              "color": "white",
              "width": 0.5
             },
             "pattern": {
              "fillmode": "overlay",
              "size": 10,
              "solidity": 0.2
             }
            },
            "type": "barpolar"
           }
          ],
          "carpet": [
           {
            "aaxis": {
             "endlinecolor": "#2a3f5f",
             "gridcolor": "#C8D4E3",
             "linecolor": "#C8D4E3",
             "minorgridcolor": "#C8D4E3",
             "startlinecolor": "#2a3f5f"
            },
            "baxis": {
             "endlinecolor": "#2a3f5f",
             "gridcolor": "#C8D4E3",
             "linecolor": "#C8D4E3",
             "minorgridcolor": "#C8D4E3",
             "startlinecolor": "#2a3f5f"
            },
            "type": "carpet"
           }
          ],
          "choropleth": [
           {
            "colorbar": {
             "outlinewidth": 0,
             "ticks": ""
            },
            "type": "choropleth"
           }
          ],
          "contour": [
           {
            "colorbar": {
             "outlinewidth": 0,
             "ticks": ""
            },
            "colorscale": [
             [
              0,
              "#0d0887"
             ],
             [
              0.1111111111111111,
              "#46039f"
             ],
             [
              0.2222222222222222,
              "#7201a8"
             ],
             [
              0.3333333333333333,
              "#9c179e"
             ],
             [
              0.4444444444444444,
              "#bd3786"
             ],
             [
              0.5555555555555556,
              "#d8576b"
             ],
             [
              0.6666666666666666,
              "#ed7953"
             ],
             [
              0.7777777777777778,
              "#fb9f3a"
             ],
             [
              0.8888888888888888,
              "#fdca26"
             ],
             [
              1,
              "#f0f921"
             ]
            ],
            "type": "contour"
           }
          ],
          "contourcarpet": [
           {
            "colorbar": {
             "outlinewidth": 0,
             "ticks": ""
            },
            "type": "contourcarpet"
           }
          ],
          "heatmap": [
           {
            "colorbar": {
             "outlinewidth": 0,
             "ticks": ""
            },
            "colorscale": [
             [
              0,
              "#0d0887"
             ],
             [
              0.1111111111111111,
              "#46039f"
             ],
             [
              0.2222222222222222,
              "#7201a8"
             ],
             [
              0.3333333333333333,
              "#9c179e"
             ],
             [
              0.4444444444444444,
              "#bd3786"
             ],
             [
              0.5555555555555556,
              "#d8576b"
             ],
             [
              0.6666666666666666,
              "#ed7953"
             ],
             [
              0.7777777777777778,
              "#fb9f3a"
             ],
             [
              0.8888888888888888,
              "#fdca26"
             ],
             [
              1,
              "#f0f921"
             ]
            ],
            "type": "heatmap"
           }
          ],
          "heatmapgl": [
           {
            "colorbar": {
             "outlinewidth": 0,
             "ticks": ""
            },
            "colorscale": [
             [
              0,
              "#0d0887"
             ],
             [
              0.1111111111111111,
              "#46039f"
             ],
             [
              0.2222222222222222,
              "#7201a8"
             ],
             [
              0.3333333333333333,
              "#9c179e"
             ],
             [
              0.4444444444444444,
              "#bd3786"
             ],
             [
              0.5555555555555556,
              "#d8576b"
             ],
             [
              0.6666666666666666,
              "#ed7953"
             ],
             [
              0.7777777777777778,
              "#fb9f3a"
             ],
             [
              0.8888888888888888,
              "#fdca26"
             ],
             [
              1,
              "#f0f921"
             ]
            ],
            "type": "heatmapgl"
           }
          ],
          "histogram": [
           {
            "marker": {
             "pattern": {
              "fillmode": "overlay",
              "size": 10,
              "solidity": 0.2
             }
            },
            "type": "histogram"
           }
          ],
          "histogram2d": [
           {
            "colorbar": {
             "outlinewidth": 0,
             "ticks": ""
            },
            "colorscale": [
             [
              0,
              "#0d0887"
             ],
             [
              0.1111111111111111,
              "#46039f"
             ],
             [
              0.2222222222222222,
              "#7201a8"
             ],
             [
              0.3333333333333333,
              "#9c179e"
             ],
             [
              0.4444444444444444,
              "#bd3786"
             ],
             [
              0.5555555555555556,
              "#d8576b"
             ],
             [
              0.6666666666666666,
              "#ed7953"
             ],
             [
              0.7777777777777778,
              "#fb9f3a"
             ],
             [
              0.8888888888888888,
              "#fdca26"
             ],
             [
              1,
              "#f0f921"
             ]
            ],
            "type": "histogram2d"
           }
          ],
          "histogram2dcontour": [
           {
            "colorbar": {
             "outlinewidth": 0,
             "ticks": ""
            },
            "colorscale": [
             [
              0,
              "#0d0887"
             ],
             [
              0.1111111111111111,
              "#46039f"
             ],
             [
              0.2222222222222222,
              "#7201a8"
             ],
             [
              0.3333333333333333,
              "#9c179e"
             ],
             [
              0.4444444444444444,
              "#bd3786"
             ],
             [
              0.5555555555555556,
              "#d8576b"
             ],
             [
              0.6666666666666666,
              "#ed7953"
             ],
             [
              0.7777777777777778,
              "#fb9f3a"
             ],
             [
              0.8888888888888888,
              "#fdca26"
             ],
             [
              1,
              "#f0f921"
             ]
            ],
            "type": "histogram2dcontour"
           }
          ],
          "mesh3d": [
           {
            "colorbar": {
             "outlinewidth": 0,
             "ticks": ""
            },
            "type": "mesh3d"
           }
          ],
          "parcoords": [
           {
            "line": {
             "colorbar": {
              "outlinewidth": 0,
              "ticks": ""
             }
            },
            "type": "parcoords"
           }
          ],
          "pie": [
           {
            "automargin": true,
            "type": "pie"
           }
          ],
          "scatter": [
           {
            "fillpattern": {
             "fillmode": "overlay",
             "size": 10,
             "solidity": 0.2
            },
            "type": "scatter"
           }
          ],
          "scatter3d": [
           {
            "line": {
             "colorbar": {
              "outlinewidth": 0,
              "ticks": ""
             }
            },
            "marker": {
             "colorbar": {
              "outlinewidth": 0,
              "ticks": ""
             }
            },
            "type": "scatter3d"
           }
          ],
          "scattercarpet": [
           {
            "marker": {
             "colorbar": {
              "outlinewidth": 0,
              "ticks": ""
             }
            },
            "type": "scattercarpet"
           }
          ],
          "scattergeo": [
           {
            "marker": {
             "colorbar": {
              "outlinewidth": 0,
              "ticks": ""
             }
            },
            "type": "scattergeo"
           }
          ],
          "scattergl": [
           {
            "marker": {
             "colorbar": {
              "outlinewidth": 0,
              "ticks": ""
             }
            },
            "type": "scattergl"
           }
          ],
          "scattermapbox": [
           {
            "marker": {
             "colorbar": {
              "outlinewidth": 0,
              "ticks": ""
             }
            },
            "type": "scattermapbox"
           }
          ],
          "scatterpolar": [
           {
            "marker": {
             "colorbar": {
              "outlinewidth": 0,
              "ticks": ""
             }
            },
            "type": "scatterpolar"
           }
          ],
          "scatterpolargl": [
           {
            "marker": {
             "colorbar": {
              "outlinewidth": 0,
              "ticks": ""
             }
            },
            "type": "scatterpolargl"
           }
          ],
          "scatterternary": [
           {
            "marker": {
             "colorbar": {
              "outlinewidth": 0,
              "ticks": ""
             }
            },
            "type": "scatterternary"
           }
          ],
          "surface": [
           {
            "colorbar": {
             "outlinewidth": 0,
             "ticks": ""
            },
            "colorscale": [
             [
              0,
              "#0d0887"
             ],
             [
              0.1111111111111111,
              "#46039f"
             ],
             [
              0.2222222222222222,
              "#7201a8"
             ],
             [
              0.3333333333333333,
              "#9c179e"
             ],
             [
              0.4444444444444444,
              "#bd3786"
             ],
             [
              0.5555555555555556,
              "#d8576b"
             ],
             [
              0.6666666666666666,
              "#ed7953"
             ],
             [
              0.7777777777777778,
              "#fb9f3a"
             ],
             [
              0.8888888888888888,
              "#fdca26"
             ],
             [
              1,
              "#f0f921"
             ]
            ],
            "type": "surface"
           }
          ],
          "table": [
           {
            "cells": {
             "fill": {
              "color": "#EBF0F8"
             },
             "line": {
              "color": "white"
             }
            },
            "header": {
             "fill": {
              "color": "#C8D4E3"
             },
             "line": {
              "color": "white"
             }
            },
            "type": "table"
           }
          ]
         },
         "layout": {
          "annotationdefaults": {
           "arrowcolor": "#2a3f5f",
           "arrowhead": 0,
           "arrowwidth": 1
          },
          "autotypenumbers": "strict",
          "coloraxis": {
           "colorbar": {
            "outlinewidth": 0,
            "ticks": ""
           }
          },
          "colorscale": {
           "diverging": [
            [
             0,
             "#8e0152"
            ],
            [
             0.1,
             "#c51b7d"
            ],
            [
             0.2,
             "#de77ae"
            ],
            [
             0.3,
             "#f1b6da"
            ],
            [
             0.4,
             "#fde0ef"
            ],
            [
             0.5,
             "#f7f7f7"
            ],
            [
             0.6,
             "#e6f5d0"
            ],
            [
             0.7,
             "#b8e186"
            ],
            [
             0.8,
             "#7fbc41"
            ],
            [
             0.9,
             "#4d9221"
            ],
            [
             1,
             "#276419"
            ]
           ],
           "sequential": [
            [
             0,
             "#0d0887"
            ],
            [
             0.1111111111111111,
             "#46039f"
            ],
            [
             0.2222222222222222,
             "#7201a8"
            ],
            [
             0.3333333333333333,
             "#9c179e"
            ],
            [
             0.4444444444444444,
             "#bd3786"
            ],
            [
             0.5555555555555556,
             "#d8576b"
            ],
            [
             0.6666666666666666,
             "#ed7953"
            ],
            [
             0.7777777777777778,
             "#fb9f3a"
            ],
            [
             0.8888888888888888,
             "#fdca26"
            ],
            [
             1,
             "#f0f921"
            ]
           ],
           "sequentialminus": [
            [
             0,
             "#0d0887"
            ],
            [
             0.1111111111111111,
             "#46039f"
            ],
            [
             0.2222222222222222,
             "#7201a8"
            ],
            [
             0.3333333333333333,
             "#9c179e"
            ],
            [
             0.4444444444444444,
             "#bd3786"
            ],
            [
             0.5555555555555556,
             "#d8576b"
            ],
            [
             0.6666666666666666,
             "#ed7953"
            ],
            [
             0.7777777777777778,
             "#fb9f3a"
            ],
            [
             0.8888888888888888,
             "#fdca26"
            ],
            [
             1,
             "#f0f921"
            ]
           ]
          },
          "colorway": [
           "#636efa",
           "#EF553B",
           "#00cc96",
           "#ab63fa",
           "#FFA15A",
           "#19d3f3",
           "#FF6692",
           "#B6E880",
           "#FF97FF",
           "#FECB52"
          ],
          "font": {
           "color": "#2a3f5f"
          },
          "geo": {
           "bgcolor": "white",
           "lakecolor": "white",
           "landcolor": "white",
           "showlakes": true,
           "showland": true,
           "subunitcolor": "#C8D4E3"
          },
          "hoverlabel": {
           "align": "left"
          },
          "hovermode": "closest",
          "mapbox": {
           "style": "light"
          },
          "paper_bgcolor": "white",
          "plot_bgcolor": "white",
          "polar": {
           "angularaxis": {
            "gridcolor": "#EBF0F8",
            "linecolor": "#EBF0F8",
            "ticks": ""
           },
           "bgcolor": "white",
           "radialaxis": {
            "gridcolor": "#EBF0F8",
            "linecolor": "#EBF0F8",
            "ticks": ""
           }
          },
          "scene": {
           "xaxis": {
            "backgroundcolor": "white",
            "gridcolor": "#DFE8F3",
            "gridwidth": 2,
            "linecolor": "#EBF0F8",
            "showbackground": true,
            "ticks": "",
            "zerolinecolor": "#EBF0F8"
           },
           "yaxis": {
            "backgroundcolor": "white",
            "gridcolor": "#DFE8F3",
            "gridwidth": 2,
            "linecolor": "#EBF0F8",
            "showbackground": true,
            "ticks": "",
            "zerolinecolor": "#EBF0F8"
           },
           "zaxis": {
            "backgroundcolor": "white",
            "gridcolor": "#DFE8F3",
            "gridwidth": 2,
            "linecolor": "#EBF0F8",
            "showbackground": true,
            "ticks": "",
            "zerolinecolor": "#EBF0F8"
           }
          },
          "shapedefaults": {
           "line": {
            "color": "#2a3f5f"
           }
          },
          "ternary": {
           "aaxis": {
            "gridcolor": "#DFE8F3",
            "linecolor": "#A2B1C6",
            "ticks": ""
           },
           "baxis": {
            "gridcolor": "#DFE8F3",
            "linecolor": "#A2B1C6",
            "ticks": ""
           },
           "bgcolor": "white",
           "caxis": {
            "gridcolor": "#DFE8F3",
            "linecolor": "#A2B1C6",
            "ticks": ""
           }
          },
          "title": {
           "x": 0.05
          },
          "xaxis": {
           "automargin": true,
           "gridcolor": "#EBF0F8",
           "linecolor": "#EBF0F8",
           "ticks": "",
           "title": {
            "standoff": 15
           },
           "zerolinecolor": "#EBF0F8",
           "zerolinewidth": 2
          },
          "yaxis": {
           "automargin": true,
           "gridcolor": "#EBF0F8",
           "linecolor": "#EBF0F8",
           "ticks": "",
           "title": {
            "standoff": 15
           },
           "zerolinecolor": "#EBF0F8",
           "zerolinewidth": 2
          }
         }
        },
        "title": {
         "text": "UNFI by Month / Year",
         "x": 0.5
        },
        "width": 800,
        "xaxis": {
         "anchor": "y",
         "domain": [
          0,
          1
         ],
         "title": {
          "text": ""
         }
        },
        "yaxis": {
         "anchor": "x",
         "domain": [
          0,
          1
         ],
         "showticklabels": false,
         "title": {
          "text": ""
         }
        }
       }
      }
     },
     "metadata": {},
     "output_type": "display_data"
    }
   ],
   "source": [
    "chart_year = unfi_clean.groupby(['Year','MonthYear'])[['Sales']].sum().reset_index()\n",
    "\n",
    "fig = px.bar(chart_year, x='MonthYear', y='Sales',\n",
    "             color='Year', title='UNFI by Month / Year', width=800, height=400,\n",
    "             text_auto='.3s', labels={'Sales':'','MonthYear':''},template='plotly_white')\n",
    "\n",
    "fig.update_yaxes(showticklabels=False)\n",
    "\n",
    "fig.update_layout(coloraxis_showscale=False, title_x=0.5)"
   ]
  },
  {
   "cell_type": "code",
   "execution_count": 31,
   "id": "896017fd",
   "metadata": {},
   "outputs": [],
   "source": [
    "# clean Size column\n",
    "def clean_size(size):\n",
    "    size = size.replace(' ', '').upper()  # Remove spaces and standardize case\n",
    "    if '2.25' in size:\n",
    "        return '2.25 OZ'\n",
    "    elif '1.34' in size:\n",
    "        return '1.34 OZ'\n",
    "    else:\n",
    "        return '4 OZ'  # Return the size as is if it doesn't match any condition\n",
    "    \n",
    "# map categories to Grocery, Away From Home, Other\n",
    "def categorize(channel):\n",
    "\n",
    "    grocery_channels = ['Independents', 'SuperMarket Independent', 'SuperMarket Chain', \n",
    "                          'Natural - Chain', 'SuperMarket']\n",
    "    away_from_home_categories = ['Food Service', 'Alternative Channel']\n",
    "\n",
    "    if channel in grocery_channels:\n",
    "        return 'Grocery'\n",
    "    elif channel in away_from_home_categories:\n",
    "        return 'Away From Home'\n",
    "    else:\n",
    "        return 'Other'\n",
    "    \n",
    "def get_month_num(month):\n",
    "    if month == 'January':\n",
    "        return 1\n",
    "    elif month == 'February':\n",
    "        return 2\n",
    "    elif month == 'March':\n",
    "        return 3\n",
    "    elif month == 'April':\n",
    "        return 4\n",
    "    elif month == 'May':\n",
    "        return 5\n",
    "    elif month == 'June':\n",
    "        return 6\n",
    "    elif month == 'July':\n",
    "        return 7\n",
    "    elif month == 'August':\n",
    "        return 8\n",
    "    elif month == 'September':\n",
    "        return 9\n",
    "    elif month == 'October':\n",
    "        return 10\n",
    "    elif month == 'November':\n",
    "        return 11\n",
    "    else:\n",
    "        return 12\n",
    "    \n",
    "    "
   ]
  },
  {
   "cell_type": "code",
   "execution_count": 32,
   "id": "aa640036",
   "metadata": {},
   "outputs": [],
   "source": [
    "# sales_path = st.file_uploader('')\n",
    "sales_path = r\"C:\\Users\\mikej\\Downloads\\unfi_sep_2023.xlsx\"\n",
    "\n",
    "use_cols = ['Region', 'Channel', 'Chain Name','Customer Name', 'Address', 'City', 'State',\n",
    "       'Zip Code', 'Warehouse', 'MFG PROD CD', 'Brand','Prod #', 'Description', 'Pack', 'Size',\n",
    "       'UNFI Published Wholesale','Sales', 'Units']\n",
    "\n",
    "if sales_path is not None:\n",
    "\n",
    "    df = pd.read_excel(path,skiprows=12, usecols=use_cols)\n",
    "    df.dropna(subset=['Customer Name'], inplace=True)\n",
    "    df['Chain Name'].fillna(df['Customer Name'], inplace=True)\n",
    "    df.rename(columns = {'Channel':'Segment'}, inplace = True)\n",
    "    \n",
    "    df['Size'] = df['Size'].apply(clean_size).convert_dtypes()\n",
    "    df['Channel'] = df['Segment'].apply(categorize)\n",
    "    \n",
    "    month = st.selectbox(\n",
    "        'What Month Are You Uploading?',\n",
    "        ('January','February','March','April',\n",
    "         'May','June','July','August','September',\n",
    "         'October','November','December')\n",
    "    )\n",
    "\n",
    "    year = st.selectbox(\n",
    "        'Which Year Are You Uploading?',\n",
    "        ('2024','2025')\n",
    "    )\n",
    "    \n",
    "    df['Month'] = str(month)\n",
    "    df['MonthNum'] =  df['Month'].apply(get_month_num)\n",
    "    \n",
    "    df['Year'] = str(year)\n",
    "    \n",
    "    df['MonthYear'] = df['MonthNum'].astype(str).str.zfill(2) + '-' + df['Year'].astype(str)\n",
    "    \n",
    "    \n",
    "    "
   ]
  },
  {
   "cell_type": "code",
   "execution_count": 33,
   "id": "af6eecad",
   "metadata": {},
   "outputs": [
    {
     "data": {
      "text/html": [
       "<div>\n",
       "<style scoped>\n",
       "    .dataframe tbody tr th:only-of-type {\n",
       "        vertical-align: middle;\n",
       "    }\n",
       "\n",
       "    .dataframe tbody tr th {\n",
       "        vertical-align: top;\n",
       "    }\n",
       "\n",
       "    .dataframe thead th {\n",
       "        text-align: right;\n",
       "    }\n",
       "</style>\n",
       "<table border=\"1\" class=\"dataframe\">\n",
       "  <thead>\n",
       "    <tr style=\"text-align: right;\">\n",
       "      <th></th>\n",
       "      <th>Region</th>\n",
       "      <th>Segment</th>\n",
       "      <th>Chain Name</th>\n",
       "      <th>Customer Name</th>\n",
       "      <th>Address</th>\n",
       "      <th>City</th>\n",
       "      <th>State</th>\n",
       "      <th>Zip Code</th>\n",
       "      <th>Warehouse</th>\n",
       "      <th>MFG PROD CD</th>\n",
       "      <th>...</th>\n",
       "      <th>Pack</th>\n",
       "      <th>Size</th>\n",
       "      <th>UNFI Published Wholesale</th>\n",
       "      <th>Sales</th>\n",
       "      <th>Units</th>\n",
       "      <th>Channel</th>\n",
       "      <th>Month</th>\n",
       "      <th>MonthNum</th>\n",
       "      <th>Year</th>\n",
       "      <th>MonthYear</th>\n",
       "    </tr>\n",
       "  </thead>\n",
       "  <tbody>\n",
       "    <tr>\n",
       "      <th>0</th>\n",
       "      <td>East</td>\n",
       "      <td>Independents</td>\n",
       "      <td>BEN FRANKLIN/MIND FAIR</td>\n",
       "      <td>BEN FRANKLIN/MIND FAIR</td>\n",
       "      <td>13 W COLLEGE STREET</td>\n",
       "      <td>OBERLIN</td>\n",
       "      <td>OH</td>\n",
       "      <td>44074</td>\n",
       "      <td>GRW</td>\n",
       "      <td>800.0</td>\n",
       "      <td>...</td>\n",
       "      <td>12.0</td>\n",
       "      <td>2.25 OZ</td>\n",
       "      <td>53.93</td>\n",
       "      <td>53.93</td>\n",
       "      <td>1.0</td>\n",
       "      <td>Grocery</td>\n",
       "      <td>January</td>\n",
       "      <td>1</td>\n",
       "      <td>2024</td>\n",
       "      <td>01-2024</td>\n",
       "    </tr>\n",
       "    <tr>\n",
       "      <th>1</th>\n",
       "      <td>East</td>\n",
       "      <td>Independents</td>\n",
       "      <td>NATURE'S CUPBOARD</td>\n",
       "      <td>NATURE'S CUPBOARD</td>\n",
       "      <td>1626 NORTH MAIN STREET</td>\n",
       "      <td>ANDERSON</td>\n",
       "      <td>SC</td>\n",
       "      <td>29621</td>\n",
       "      <td>ATL</td>\n",
       "      <td>816.0</td>\n",
       "      <td>...</td>\n",
       "      <td>12.0</td>\n",
       "      <td>4 OZ</td>\n",
       "      <td>82.13</td>\n",
       "      <td>82.13</td>\n",
       "      <td>1.0</td>\n",
       "      <td>Grocery</td>\n",
       "      <td>January</td>\n",
       "      <td>1</td>\n",
       "      <td>2024</td>\n",
       "      <td>01-2024</td>\n",
       "    </tr>\n",
       "    <tr>\n",
       "      <th>2</th>\n",
       "      <td>East</td>\n",
       "      <td>Independents</td>\n",
       "      <td>JOHN EDWARDS WHOLE FOOD M</td>\n",
       "      <td>JOHN EDWARDS WHOLE FOOD M</td>\n",
       "      <td>158 MAIN STREET</td>\n",
       "      <td>ELLSWORTH</td>\n",
       "      <td>ME</td>\n",
       "      <td>04605</td>\n",
       "      <td>CHE</td>\n",
       "      <td>816.0</td>\n",
       "      <td>...</td>\n",
       "      <td>12.0</td>\n",
       "      <td>4 OZ</td>\n",
       "      <td>82.13</td>\n",
       "      <td>76.38</td>\n",
       "      <td>1.0</td>\n",
       "      <td>Grocery</td>\n",
       "      <td>January</td>\n",
       "      <td>1</td>\n",
       "      <td>2024</td>\n",
       "      <td>01-2024</td>\n",
       "    </tr>\n",
       "    <tr>\n",
       "      <th>3</th>\n",
       "      <td>East</td>\n",
       "      <td>Independents</td>\n",
       "      <td>NATURA U.S. INC</td>\n",
       "      <td>NATURA U.S. INC</td>\n",
       "      <td>4220 HYDE PARK BLVD</td>\n",
       "      <td>NIAGARA FALLS</td>\n",
       "      <td>NY</td>\n",
       "      <td>14305</td>\n",
       "      <td>CHE</td>\n",
       "      <td>816.0</td>\n",
       "      <td>...</td>\n",
       "      <td>12.0</td>\n",
       "      <td>4 OZ</td>\n",
       "      <td>328.52</td>\n",
       "      <td>282.52</td>\n",
       "      <td>4.0</td>\n",
       "      <td>Grocery</td>\n",
       "      <td>January</td>\n",
       "      <td>1</td>\n",
       "      <td>2024</td>\n",
       "      <td>01-2024</td>\n",
       "    </tr>\n",
       "    <tr>\n",
       "      <th>4</th>\n",
       "      <td>East</td>\n",
       "      <td>Independents</td>\n",
       "      <td>HENDERSONVILLE PRODUCE</td>\n",
       "      <td>HENDERSONVILLE PRODUCE</td>\n",
       "      <td>760 E MAIN ST</td>\n",
       "      <td>HENDERSONVILLE</td>\n",
       "      <td>TN</td>\n",
       "      <td>37075</td>\n",
       "      <td>ATL</td>\n",
       "      <td>881.0</td>\n",
       "      <td>...</td>\n",
       "      <td>12.0</td>\n",
       "      <td>4 OZ</td>\n",
       "      <td>82.13</td>\n",
       "      <td>78.84</td>\n",
       "      <td>1.0</td>\n",
       "      <td>Grocery</td>\n",
       "      <td>January</td>\n",
       "      <td>1</td>\n",
       "      <td>2024</td>\n",
       "      <td>01-2024</td>\n",
       "    </tr>\n",
       "    <tr>\n",
       "      <th>...</th>\n",
       "      <td>...</td>\n",
       "      <td>...</td>\n",
       "      <td>...</td>\n",
       "      <td>...</td>\n",
       "      <td>...</td>\n",
       "      <td>...</td>\n",
       "      <td>...</td>\n",
       "      <td>...</td>\n",
       "      <td>...</td>\n",
       "      <td>...</td>\n",
       "      <td>...</td>\n",
       "      <td>...</td>\n",
       "      <td>...</td>\n",
       "      <td>...</td>\n",
       "      <td>...</td>\n",
       "      <td>...</td>\n",
       "      <td>...</td>\n",
       "      <td>...</td>\n",
       "      <td>...</td>\n",
       "      <td>...</td>\n",
       "      <td>...</td>\n",
       "    </tr>\n",
       "    <tr>\n",
       "      <th>6406</th>\n",
       "      <td>West</td>\n",
       "      <td>E-Commerce</td>\n",
       "      <td>VITACOST</td>\n",
       "      <td>VITACOST.COM (WAVE SEPARATE)</td>\n",
       "      <td>C/O GARY GRAY</td>\n",
       "      <td>LAS VEGAS</td>\n",
       "      <td>NV</td>\n",
       "      <td>89119</td>\n",
       "      <td>MOR</td>\n",
       "      <td>34.0</td>\n",
       "      <td>...</td>\n",
       "      <td>12.0</td>\n",
       "      <td>2.25 OZ</td>\n",
       "      <td>155.31</td>\n",
       "      <td>119.79</td>\n",
       "      <td>3.0</td>\n",
       "      <td>Other</td>\n",
       "      <td>January</td>\n",
       "      <td>1</td>\n",
       "      <td>2024</td>\n",
       "      <td>01-2024</td>\n",
       "    </tr>\n",
       "    <tr>\n",
       "      <th>6408</th>\n",
       "      <td>West</td>\n",
       "      <td>E-Commerce</td>\n",
       "      <td>WEEE INC</td>\n",
       "      <td>WEEE LA DRY</td>\n",
       "      <td>C/O HAO EARLEY</td>\n",
       "      <td>LA MIRADA</td>\n",
       "      <td>CA</td>\n",
       "      <td>90638</td>\n",
       "      <td>MOR</td>\n",
       "      <td>801.0</td>\n",
       "      <td>...</td>\n",
       "      <td>12.0</td>\n",
       "      <td>2.25 OZ</td>\n",
       "      <td>155.31</td>\n",
       "      <td>140.94</td>\n",
       "      <td>3.0</td>\n",
       "      <td>Other</td>\n",
       "      <td>January</td>\n",
       "      <td>1</td>\n",
       "      <td>2024</td>\n",
       "      <td>01-2024</td>\n",
       "    </tr>\n",
       "    <tr>\n",
       "      <th>6409</th>\n",
       "      <td>West</td>\n",
       "      <td>E-Commerce</td>\n",
       "      <td>WEEE INC</td>\n",
       "      <td>WEEE LA DRY</td>\n",
       "      <td>C/O HAO EARLEY</td>\n",
       "      <td>LA MIRADA</td>\n",
       "      <td>CA</td>\n",
       "      <td>90638</td>\n",
       "      <td>MOR</td>\n",
       "      <td>34.0</td>\n",
       "      <td>...</td>\n",
       "      <td>12.0</td>\n",
       "      <td>2.25 OZ</td>\n",
       "      <td>103.54</td>\n",
       "      <td>93.96</td>\n",
       "      <td>2.0</td>\n",
       "      <td>Other</td>\n",
       "      <td>January</td>\n",
       "      <td>1</td>\n",
       "      <td>2024</td>\n",
       "      <td>01-2024</td>\n",
       "    </tr>\n",
       "    <tr>\n",
       "      <th>6411</th>\n",
       "      <td>West</td>\n",
       "      <td>SuperMarket Independent</td>\n",
       "      <td>ZANOTTOS</td>\n",
       "      <td>ZANOTTOS MARKET-SUNNYVALE</td>\n",
       "      <td>C/O NICK OR TROY</td>\n",
       "      <td>SUNNYVALE</td>\n",
       "      <td>CA</td>\n",
       "      <td>94087</td>\n",
       "      <td>ROC</td>\n",
       "      <td>31.0</td>\n",
       "      <td>...</td>\n",
       "      <td>12.0</td>\n",
       "      <td>2.25 OZ</td>\n",
       "      <td>51.77</td>\n",
       "      <td>46.98</td>\n",
       "      <td>1.0</td>\n",
       "      <td>Grocery</td>\n",
       "      <td>January</td>\n",
       "      <td>1</td>\n",
       "      <td>2024</td>\n",
       "      <td>01-2024</td>\n",
       "    </tr>\n",
       "    <tr>\n",
       "      <th>6412</th>\n",
       "      <td>West</td>\n",
       "      <td>SuperMarket Independent</td>\n",
       "      <td>ZANOTTOS</td>\n",
       "      <td>ZANOTTOS MARKET-SUNNYVALE</td>\n",
       "      <td>C/O NICK OR TROY</td>\n",
       "      <td>SUNNYVALE</td>\n",
       "      <td>CA</td>\n",
       "      <td>94087</td>\n",
       "      <td>ROC</td>\n",
       "      <td>34.0</td>\n",
       "      <td>...</td>\n",
       "      <td>12.0</td>\n",
       "      <td>2.25 OZ</td>\n",
       "      <td>51.77</td>\n",
       "      <td>46.98</td>\n",
       "      <td>1.0</td>\n",
       "      <td>Grocery</td>\n",
       "      <td>January</td>\n",
       "      <td>1</td>\n",
       "      <td>2024</td>\n",
       "      <td>01-2024</td>\n",
       "    </tr>\n",
       "  </tbody>\n",
       "</table>\n",
       "<p>6266 rows × 23 columns</p>\n",
       "</div>"
      ],
      "text/plain": [
       "     Region                  Segment                 Chain Name  \\\n",
       "0      East             Independents  BEN FRANKLIN/MIND FAIR      \n",
       "1      East             Independents  NATURE'S CUPBOARD           \n",
       "2      East             Independents  JOHN EDWARDS WHOLE FOOD M   \n",
       "3      East             Independents  NATURA U.S. INC             \n",
       "4      East             Independents  HENDERSONVILLE PRODUCE      \n",
       "...     ...                      ...                        ...   \n",
       "6406   West               E-Commerce                   VITACOST   \n",
       "6408   West               E-Commerce                   WEEE INC   \n",
       "6409   West               E-Commerce                   WEEE INC   \n",
       "6411   West  SuperMarket Independent                   ZANOTTOS   \n",
       "6412   West  SuperMarket Independent                   ZANOTTOS   \n",
       "\n",
       "                     Customer Name                       Address  \\\n",
       "0        BEN FRANKLIN/MIND FAIR        13 W COLLEGE STREET         \n",
       "1        NATURE'S CUPBOARD             1626 NORTH MAIN STREET      \n",
       "2        JOHN EDWARDS WHOLE FOOD M     158 MAIN STREET             \n",
       "3        NATURA U.S. INC               4220 HYDE PARK BLVD         \n",
       "4        HENDERSONVILLE PRODUCE        760 E MAIN ST               \n",
       "...                            ...                           ...   \n",
       "6406  VITACOST.COM (WAVE SEPARATE)  C/O GARY GRAY                  \n",
       "6408  WEEE LA DRY                   C/O HAO EARLEY                 \n",
       "6409  WEEE LA DRY                   C/O HAO EARLEY                 \n",
       "6411  ZANOTTOS MARKET-SUNNYVALE     C/O NICK OR TROY               \n",
       "6412  ZANOTTOS MARKET-SUNNYVALE     C/O NICK OR TROY               \n",
       "\n",
       "                    City State    Zip Code Warehouse  MFG PROD CD  ...  Pack  \\\n",
       "0      OBERLIN              OH       44074       GRW        800.0  ...  12.0   \n",
       "1      ANDERSON             SC       29621       ATL        816.0  ...  12.0   \n",
       "2      ELLSWORTH            ME       04605       CHE        816.0  ...  12.0   \n",
       "3      NIAGARA FALLS        NY       14305       CHE        816.0  ...  12.0   \n",
       "4      HENDERSONVILLE       TN       37075       ATL        881.0  ...  12.0   \n",
       "...                  ...   ...         ...       ...          ...  ...   ...   \n",
       "6406  LAS VEGAS             NV  89119            MOR         34.0  ...  12.0   \n",
       "6408  LA MIRADA             CA  90638            MOR        801.0  ...  12.0   \n",
       "6409  LA MIRADA             CA  90638            MOR         34.0  ...  12.0   \n",
       "6411  SUNNYVALE             CA  94087            ROC         31.0  ...  12.0   \n",
       "6412  SUNNYVALE             CA  94087            ROC         34.0  ...  12.0   \n",
       "\n",
       "         Size UNFI Published Wholesale   Sales Units  Channel    Month  \\\n",
       "0     2.25 OZ                    53.93   53.93   1.0  Grocery  January   \n",
       "1        4 OZ                    82.13   82.13   1.0  Grocery  January   \n",
       "2        4 OZ                    82.13   76.38   1.0  Grocery  January   \n",
       "3        4 OZ                   328.52  282.52   4.0  Grocery  January   \n",
       "4        4 OZ                    82.13   78.84   1.0  Grocery  January   \n",
       "...       ...                      ...     ...   ...      ...      ...   \n",
       "6406  2.25 OZ                   155.31  119.79   3.0    Other  January   \n",
       "6408  2.25 OZ                   155.31  140.94   3.0    Other  January   \n",
       "6409  2.25 OZ                   103.54   93.96   2.0    Other  January   \n",
       "6411  2.25 OZ                    51.77   46.98   1.0  Grocery  January   \n",
       "6412  2.25 OZ                    51.77   46.98   1.0  Grocery  January   \n",
       "\n",
       "      MonthNum  Year MonthYear  \n",
       "0            1  2024   01-2024  \n",
       "1            1  2024   01-2024  \n",
       "2            1  2024   01-2024  \n",
       "3            1  2024   01-2024  \n",
       "4            1  2024   01-2024  \n",
       "...        ...   ...       ...  \n",
       "6406         1  2024   01-2024  \n",
       "6408         1  2024   01-2024  \n",
       "6409         1  2024   01-2024  \n",
       "6411         1  2024   01-2024  \n",
       "6412         1  2024   01-2024  \n",
       "\n",
       "[6266 rows x 23 columns]"
      ]
     },
     "execution_count": 33,
     "metadata": {},
     "output_type": "execute_result"
    }
   ],
   "source": [
    "df"
   ]
  },
  {
   "cell_type": "code",
   "execution_count": null,
   "id": "66dcead6",
   "metadata": {},
   "outputs": [],
   "source": []
  }
 ],
 "metadata": {
  "kernelspec": {
   "display_name": "Python 3 (ipykernel)",
   "language": "python",
   "name": "python3"
  },
  "language_info": {
   "codemirror_mode": {
    "name": "ipython",
    "version": 3
   },
   "file_extension": ".py",
   "mimetype": "text/x-python",
   "name": "python",
   "nbconvert_exporter": "python",
   "pygments_lexer": "ipython3",
   "version": "3.11.5"
  }
 },
 "nbformat": 4,
 "nbformat_minor": 5
}
