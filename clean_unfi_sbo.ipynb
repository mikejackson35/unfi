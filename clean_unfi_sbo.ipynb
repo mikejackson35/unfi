{
 "cells": [
  {
   "cell_type": "code",
   "execution_count": 1,
   "id": "047fad66",
   "metadata": {},
   "outputs": [],
   "source": [
    "import streamlit as st\n",
    "\n",
    "import numpy as np\n",
    "import pandas as pd\n",
    "\n",
    "import plotly.express as px"
   ]
  },
  {
   "cell_type": "code",
   "execution_count": 4,
   "id": "c14f0b1e",
   "metadata": {},
   "outputs": [],
   "source": [
    "path = r\"C:\\Users\\mikej\\Downloads\\unfi_june_2023.xlsx\"\n",
    "\n",
    "use_cols = ['Region', 'Channel', 'Chain Name','Customer Name', 'Address', 'City', 'State',\n",
    "       'Zip Code', 'Warehouse', 'MFG PROD CD', 'Brand','Prod #', 'Description', 'Pack', 'Size',\n",
    "       'UNFI Published Wholesale','Sales', 'Units']\n",
    "\n",
    "df = pd.read_excel(path,skiprows=12, usecols=use_cols)\n",
    "df.dropna(subset=['Customer Name'], inplace=True)\n",
    "\n",
    "df['Chain Name'].fillna(df['Customer Name'], inplace=True)\n",
    "\n",
    "df['Year'] = 2023\n",
    "\n",
    "df['MonthNum'] = 6\n",
    "df['Month'] = 'June'\n",
    "\n",
    "jun23 = df[['Month','MonthNum','Year','Region', 'Channel', 'Chain Name','Customer Name', 'Address', 'City', 'State',\n",
    "       'Zip Code', 'Warehouse', 'MFG PROD CD', 'Brand','Prod #', 'Description', 'Pack', 'Size',\n",
    "       'UNFI Published Wholesale','Sales', 'Units']]"
   ]
  },
  {
   "cell_type": "code",
   "execution_count": 5,
   "id": "2e6d2ae2",
   "metadata": {},
   "outputs": [],
   "source": [
    "path = r\"C:\\Users\\mikej\\Downloads\\unfi_july_2023.xlsx\"\n",
    "\n",
    "use_cols = ['Region', 'Channel', 'Chain Name','Customer Name', 'Address', 'City', 'State',\n",
    "       'Zip Code', 'Warehouse', 'MFG PROD CD', 'Brand','Prod #', 'Description', 'Pack', 'Size',\n",
    "       'UNFI Published Wholesale','Sales', 'Units']\n",
    "\n",
    "df = pd.read_excel(path,usecols=use_cols)\n",
    "df.dropna(subset=['Customer Name'], inplace=True)\n",
    "\n",
    "df['Chain Name'].fillna(df['Customer Name'], inplace=True)\n",
    "\n",
    "df['Year'] = 2023\n",
    "\n",
    "df['MonthNum'] = 7\n",
    "df['Month'] = 'July'\n",
    "\n",
    "jul23 = df[['Month','MonthNum','Year','Region', 'Channel', 'Chain Name','Customer Name', 'Address', 'City', 'State',\n",
    "       'Zip Code', 'Warehouse', 'MFG PROD CD', 'Brand','Prod #', 'Description', 'Pack', 'Size',\n",
    "       'UNFI Published Wholesale','Sales', 'Units']]"
   ]
  },
  {
   "cell_type": "code",
   "execution_count": 6,
   "id": "09605030",
   "metadata": {},
   "outputs": [],
   "source": [
    "path = r\"C:\\Users\\mikej\\Downloads\\unfi_aug_2023.xlsx\"\n",
    "\n",
    "use_cols = ['Region', 'Channel', 'Chain Name','Customer Name', 'Address', 'City', 'State',\n",
    "       'Zip Code', 'Warehouse', 'MFG PROD CD', 'Brand','Prod #', 'Description', 'Pack', 'Size',\n",
    "       'UNFI Published Wholesale','Sales', 'Units']\n",
    "\n",
    "df = pd.read_excel(path,skiprows=12, usecols=use_cols)\n",
    "df.dropna(subset=['Customer Name'], inplace=True)\n",
    "\n",
    "df['Chain Name'].fillna(df['Customer Name'], inplace=True)\n",
    "\n",
    "df['Year'] = 2023\n",
    "\n",
    "df['MonthNum'] = 8\n",
    "df['Month'] = 'August'\n",
    "\n",
    "aug23 = df[['Month','MonthNum','Year','Region', 'Channel', 'Chain Name','Customer Name', 'Address', 'City', 'State',\n",
    "       'Zip Code', 'Warehouse', 'MFG PROD CD', 'Brand','Prod #', 'Description', 'Pack', 'Size',\n",
    "       'UNFI Published Wholesale','Sales', 'Units']]"
   ]
  },
  {
   "cell_type": "code",
   "execution_count": 7,
   "id": "d54d8ba8",
   "metadata": {},
   "outputs": [],
   "source": [
    "path = r\"C:\\Users\\mikej\\Downloads\\unfi_sep_2023.xlsx\"\n",
    "\n",
    "use_cols = ['Region', 'Channel', 'Chain Name','Customer Name', 'Address', 'City', 'State',\n",
    "       'Zip Code', 'Warehouse', 'MFG PROD CD', 'Brand','Prod #', 'Description', 'Pack', 'Size',\n",
    "       'UNFI Published Wholesale','Sales', 'Units']\n",
    "\n",
    "df = pd.read_excel(path,skiprows=12, usecols=use_cols)\n",
    "df.dropna(subset=['Customer Name'], inplace=True)\n",
    "\n",
    "df['Chain Name'].fillna(df['Customer Name'], inplace=True)\n",
    "\n",
    "df['Year'] = 2023\n",
    "\n",
    "df['MonthNum'] = 9\n",
    "df['Month'] = 'September'\n",
    "\n",
    "sep23 = df[['Month','MonthNum','Year','Region', 'Channel', 'Chain Name','Customer Name', 'Address', 'City', 'State',\n",
    "       'Zip Code', 'Warehouse', 'MFG PROD CD', 'Brand','Prod #', 'Description', 'Pack', 'Size',\n",
    "       'UNFI Published Wholesale','Sales', 'Units']]"
   ]
  },
  {
   "cell_type": "code",
   "execution_count": 8,
   "id": "02e88656",
   "metadata": {},
   "outputs": [],
   "source": [
    "path = r\"C:\\Users\\mikej\\Downloads\\unfi_oct_2023.xlsx\"\n",
    "\n",
    "use_cols = ['Region', 'Channel', 'Chain Name','Customer Name', 'Address', 'City', 'State',\n",
    "       'Zip Code', 'Warehouse', 'MFG PROD CD', 'Brand','Prod #', 'Description', 'Pack', 'Size',\n",
    "       'UNFI Published Wholesale','Sales', 'Units']\n",
    "\n",
    "df = pd.read_excel(path,skiprows=12, usecols=use_cols)\n",
    "df.dropna(subset=['Customer Name'], inplace=True)\n",
    "\n",
    "df['Chain Name'].fillna(df['Customer Name'], inplace=True)\n",
    "\n",
    "df['Year'] = 2023\n",
    "\n",
    "df['MonthNum'] = 10\n",
    "df['Month'] = 'October'\n",
    "\n",
    "oct23 = df[['Month','MonthNum','Year','Region', 'Channel', 'Chain Name','Customer Name', 'Address', 'City', 'State',\n",
    "       'Zip Code', 'Warehouse', 'MFG PROD CD', 'Brand','Prod #', 'Description', 'Pack', 'Size',\n",
    "       'UNFI Published Wholesale','Sales', 'Units']]"
   ]
  },
  {
   "cell_type": "code",
   "execution_count": 9,
   "id": "43f0ccdd",
   "metadata": {},
   "outputs": [],
   "source": [
    "path = r\"C:\\Users\\mikej\\Downloads\\unfi_nov_2023.xlsx\"\n",
    "\n",
    "use_cols = ['Region', 'Channel', 'Chain Name','Customer Name', 'Address', 'City', 'State',\n",
    "       'Zip Code', 'Warehouse', 'MFG PROD CD', 'Brand','Prod #', 'Description', 'Pack', 'Size',\n",
    "       'UNFI Published Wholesale','Sales', 'Units']\n",
    "\n",
    "df = pd.read_excel(path,skiprows=12, usecols=use_cols)\n",
    "df.dropna(subset=['Customer Name'], inplace=True)\n",
    "\n",
    "df['Chain Name'].fillna(df['Customer Name'], inplace=True)\n",
    "\n",
    "df['Year'] = 2023\n",
    "\n",
    "df['MonthNum'] = 11\n",
    "df['Month'] = 'November'\n",
    "\n",
    "nov23 = df[['Month','MonthNum','Year','Region', 'Channel', 'Chain Name','Customer Name', 'Address', 'City', 'State',\n",
    "       'Zip Code', 'Warehouse', 'MFG PROD CD', 'Brand','Prod #', 'Description', 'Pack', 'Size',\n",
    "       'UNFI Published Wholesale','Sales', 'Units']]"
   ]
  },
  {
   "cell_type": "code",
   "execution_count": 10,
   "id": "adff7451",
   "metadata": {},
   "outputs": [],
   "source": [
    "path = r\"C:\\Users\\mikej\\Downloads\\unfi_dec_2023.xlsx\"\n",
    "\n",
    "use_cols = ['Region', 'Channel', 'Chain Name','Customer Name', 'Address', 'City', 'State',\n",
    "       'Zip Code', 'Warehouse', 'MFG PROD CD', 'Brand','Prod #', 'Description', 'Pack', 'Size',\n",
    "       'UNFI Published Wholesale','Sales', 'Units']\n",
    "\n",
    "df = pd.read_excel(path,skiprows=12, usecols=use_cols)\n",
    "df.dropna(subset=['Customer Name'], inplace=True)\n",
    "\n",
    "df['Chain Name'].fillna(df['Customer Name'], inplace=True)\n",
    "\n",
    "df['Year'] = 2023\n",
    "\n",
    "df['MonthNum'] = 12\n",
    "df['Month'] = 'December'\n",
    "\n",
    "dec23 = df[['Month','MonthNum','Year','Region', 'Channel', 'Chain Name','Customer Name', 'Address', 'City', 'State',\n",
    "       'Zip Code', 'Warehouse', 'MFG PROD CD', 'Brand','Prod #', 'Description', 'Pack', 'Size',\n",
    "       'UNFI Published Wholesale','Sales', 'Units']]"
   ]
  },
  {
   "cell_type": "code",
   "execution_count": 11,
   "id": "8ea24bab",
   "metadata": {},
   "outputs": [],
   "source": [
    "path = r\"C:\\Users\\mikej\\Downloads\\WILDE - SBO Velocity Report - 01.2024.xlsx\"\n",
    "\n",
    "use_cols = ['Region', 'Channel', 'Chain Name','Customer Name', 'Address', 'City', 'State',\n",
    "       'Zip Code', 'Warehouse', 'MFG PROD CD', 'Brand','Prod #', 'Description', 'Pack', 'Size',\n",
    "       'UNFI Published Wholesale','Sales', 'Units']\n",
    "\n",
    "df = pd.read_excel(path,skiprows=12, usecols=use_cols)\n",
    "\n",
    "df.dropna(subset=['Customer Name'], inplace=True)\n",
    "\n",
    "df['Chain Name'].fillna(df['Customer Name'], inplace=True)\n",
    "\n",
    "df['Year'] = 2024\n",
    "\n",
    "df['MonthNum'] = 1\n",
    "df['Month'] = 'January'\n",
    "\n",
    "jan24 = df[['Month','MonthNum','Year','Region', 'Channel', 'Chain Name','Customer Name', 'Address', 'City', 'State',\n",
    "       'Zip Code', 'Warehouse', 'MFG PROD CD', 'Brand','Prod #', 'Description', 'Pack', 'Size',\n",
    "       'UNFI Published Wholesale','Sales', 'Units']]"
   ]
  },
  {
   "cell_type": "code",
   "execution_count": 12,
   "id": "ff35a67e",
   "metadata": {},
   "outputs": [],
   "source": [
    "path = r\"C:\\Users\\mikej\\Downloads\\WILDE - SBO Velocity Report - 02.2024.xlsx\"\n",
    "\n",
    "use_cols = ['Region', 'Channel', 'Chain Name','Customer Name', 'Address', 'City', 'State',\n",
    "       'Zip Code', 'Warehouse', 'MFG PROD CD', 'Brand','Prod #', 'Description', 'Pack', 'Size',\n",
    "       'UNFI Published Wholesale','Sales', 'Units']\n",
    "\n",
    "df = pd.read_excel(path,skiprows=12, usecols=use_cols)\n",
    "\n",
    "df.dropna(subset=['Customer Name'], inplace=True)\n",
    "\n",
    "df['Chain Name'].fillna(df['Customer Name'], inplace=True)\n",
    "\n",
    "df['Year'] = 2024\n",
    "\n",
    "df['MonthNum'] = 2\n",
    "df['Month'] = 'February'\n",
    "\n",
    "feb24 = df[['Month','MonthNum','Year','Region', 'Channel', 'Chain Name','Customer Name', 'Address', 'City', 'State',\n",
    "       'Zip Code', 'Warehouse', 'MFG PROD CD', 'Brand','Prod #', 'Description', 'Pack', 'Size',\n",
    "       'UNFI Published Wholesale','Sales', 'Units']]"
   ]
  },
  {
   "cell_type": "code",
   "execution_count": 13,
   "id": "79e3c283",
   "metadata": {},
   "outputs": [],
   "source": [
    "path = r\"C:\\Users\\mikej\\Downloads\\WILDE - SBO Velocity Report - 03.2024.xlsx\"\n",
    "\n",
    "use_cols = ['Region', 'Channel', 'Chain Name','Customer Name', 'Address', 'City', 'State',\n",
    "       'Zip Code', 'Warehouse', 'MFG PROD CD', 'Brand','Prod #', 'Description', 'Pack', 'Size',\n",
    "       'UNFI Published Wholesale','Sales', 'Units']\n",
    "\n",
    "df = pd.read_excel(path,skiprows=12, usecols=use_cols)\n",
    "\n",
    "df.dropna(subset=['Customer Name'], inplace=True)\n",
    "\n",
    "df['Chain Name'].fillna(df['Customer Name'], inplace=True)\n",
    "\n",
    "df['Year'] = 2024\n",
    "\n",
    "df['MonthNum'] = 3\n",
    "df['Month'] = 'March'\n",
    "\n",
    "mar24 = df[['Month','MonthNum','Year','Region', 'Channel', 'Chain Name','Customer Name', 'Address', 'City', 'State',\n",
    "       'Zip Code', 'Warehouse', 'MFG PROD CD', 'Brand','Prod #', 'Description', 'Pack', 'Size',\n",
    "       'UNFI Published Wholesale','Sales', 'Units']]"
   ]
  },
  {
   "cell_type": "code",
   "execution_count": 14,
   "id": "3dbaefaa",
   "metadata": {},
   "outputs": [],
   "source": [
    "path = r\"C:\\Users\\mikej\\Downloads\\WILDE - SBO Velocity Report - 04.2024.xlsx\"\n",
    "\n",
    "use_cols = ['Region', 'Channel', 'Chain Name','Customer Name', 'Address', 'City', 'State',\n",
    "       'Zip Code', 'Warehouse', 'MFG PROD CD', 'Brand','Prod #', 'Description', 'Pack', 'Size',\n",
    "       'UNFI Published Wholesale','Sales', 'Units']\n",
    "\n",
    "df = pd.read_excel(path,skiprows=12, usecols=use_cols)\n",
    "\n",
    "df.dropna(subset=['Customer Name'], inplace=True)\n",
    "\n",
    "df['Chain Name'].fillna(df['Customer Name'], inplace=True)\n",
    "\n",
    "df['Year'] = 2024\n",
    "\n",
    "df['MonthNum'] = 4\n",
    "df['Month'] = 'April'\n",
    "\n",
    "apr24 = df[['Month','MonthNum','Year','Region', 'Channel', 'Chain Name','Customer Name', 'Address', 'City', 'State',\n",
    "       'Zip Code', 'Warehouse', 'MFG PROD CD', 'Brand','Prod #', 'Description', 'Pack', 'Size',\n",
    "       'UNFI Published Wholesale','Sales', 'Units']]"
   ]
  },
  {
   "cell_type": "code",
   "execution_count": 15,
   "id": "efda13ad",
   "metadata": {},
   "outputs": [],
   "source": [
    "path = r\"C:\\Users\\mikej\\Downloads\\UNFI_MONTHLY_Wilde Brands SBO Velocity Report_2024_05.xlsx\"\n",
    "\n",
    "use_cols = ['Region', 'Channel', 'Chain Name','Customer Name', 'Address', 'City', 'State',\n",
    "       'Zip Code', 'Warehouse', 'MFG PROD CD', 'Brand','Prod #', 'Description', 'Pack', 'Size',\n",
    "       'UNFI Published Wholesale','Sales', 'Units']\n",
    "\n",
    "df = pd.read_excel(path,skiprows=12, usecols=use_cols)\n",
    "df.dropna(subset=['Customer Name'], inplace=True)\n",
    "\n",
    "df['Chain Name'].fillna(df['Customer Name'], inplace=True)\n",
    "\n",
    "df['Year'] = 2024\n",
    "\n",
    "df['MonthNum'] = 5\n",
    "df['Month'] = 'May'\n",
    "\n",
    "may24 = df[['Month','MonthNum','Year','Region', 'Channel', 'Chain Name','Customer Name', 'Address', 'City', 'State',\n",
    "       'Zip Code', 'Warehouse', 'MFG PROD CD', 'Brand','Prod #', 'Description', 'Pack', 'Size',\n",
    "       'UNFI Published Wholesale','Sales', 'Units']]"
   ]
  },
  {
   "cell_type": "code",
   "execution_count": 16,
   "id": "3a15e4d8",
   "metadata": {},
   "outputs": [],
   "source": [
    "path = r\"C:\\Users\\mikej\\Downloads\\UNFI_MONTHLY_Wilde Brands SBO Velocity Report_2024_06.xlsx\"\n",
    "\n",
    "use_cols = ['Region', 'Channel', 'Chain Name','Customer Name', 'Address', 'City', 'State',\n",
    "       'Zip Code', 'Warehouse', 'MFG PROD CD', 'Brand','Prod #', 'Description', 'Pack', 'Size',\n",
    "       'UNFI Published Wholesale','Sales', 'Units']\n",
    "\n",
    "df = pd.read_excel(path,skiprows=12, usecols=use_cols)\n",
    "df.dropna(subset=['Customer Name'], inplace=True)\n",
    "\n",
    "df['Chain Name'].fillna(df['Customer Name'], inplace=True)\n",
    "\n",
    "df['Year'] = 2024\n",
    "\n",
    "df['MonthNum'] = 6\n",
    "df['Month'] = 'June'\n",
    "\n",
    "jun24 = df[['Month','MonthNum','Year','Region', 'Channel', 'Chain Name','Customer Name', 'Address', 'City', 'State',\n",
    "       'Zip Code', 'Warehouse', 'MFG PROD CD', 'Brand','Prod #', 'Description', 'Pack', 'Size',\n",
    "       'UNFI Published Wholesale','Sales', 'Units']]"
   ]
  },
  {
   "cell_type": "code",
   "execution_count": 17,
   "id": "1be9a282",
   "metadata": {},
   "outputs": [],
   "source": [
    "path = r\"C:\\Users\\mikej\\Downloads\\unfi_july_2024.xlsx\"\n",
    "\n",
    "use_cols = ['Region', 'Channel', 'Chain Name','Customer Name', 'Address', 'City', 'State',\n",
    "       'Zip Code', 'Warehouse', 'MFG PROD CD', 'Brand','Prod #', 'Description', 'Pack', 'Size',\n",
    "       'UNFI Published Wholesale','Sales', 'Units']\n",
    "\n",
    "df = pd.read_excel(path,skiprows=12, usecols=use_cols)\n",
    "df.dropna(subset=['Customer Name'], inplace=True)\n",
    "\n",
    "df['Chain Name'].fillna(df['Customer Name'], inplace=True)\n",
    "\n",
    "df['Year'] = 2024\n",
    "\n",
    "df['MonthNum'] = 7\n",
    "df['Month'] = 'July'\n",
    "\n",
    "jul24 = df[['Month','MonthNum','Year','Region', 'Channel', 'Chain Name','Customer Name', 'Address', 'City', 'State',\n",
    "       'Zip Code', 'Warehouse', 'MFG PROD CD', 'Brand','Prod #', 'Description', 'Pack', 'Size',\n",
    "       'UNFI Published Wholesale','Sales', 'Units']]"
   ]
  },
  {
   "cell_type": "code",
   "execution_count": 18,
   "id": "b8899a23",
   "metadata": {},
   "outputs": [],
   "source": [
    "path = r\"C:\\Users\\mikej\\Downloads\\unfi_aug_2024.xlsx\"\n",
    "\n",
    "use_cols = ['Region', 'Channel', 'Chain Name','Customer Name', 'Address', 'City', 'State',\n",
    "       'Zip Code', 'Warehouse', 'MFG PROD CD', 'Brand','Prod #', 'Description', 'Pack', 'Size',\n",
    "       'UNFI Published Wholesale','Sales', 'Units']\n",
    "\n",
    "df = pd.read_excel(path,skiprows=12, usecols=use_cols)\n",
    "df.dropna(subset=['Customer Name'], inplace=True)\n",
    "\n",
    "df['Chain Name'].fillna(df['Customer Name'], inplace=True)\n",
    "\n",
    "df['Year'] = 2024\n",
    "\n",
    "df['MonthNum'] = 8\n",
    "df['Month'] = 'August'\n",
    "\n",
    "aug24 = df[['Month','MonthNum','Year','Region', 'Channel', 'Chain Name','Customer Name', 'Address', 'City', 'State',\n",
    "       'Zip Code', 'Warehouse', 'MFG PROD CD', 'Brand','Prod #', 'Description', 'Pack', 'Size',\n",
    "       'UNFI Published Wholesale','Sales', 'Units']]"
   ]
  },
  {
   "cell_type": "code",
   "execution_count": 19,
   "id": "a750d4c1",
   "metadata": {},
   "outputs": [],
   "source": [
    "# concat all\n",
    "\n",
    "unfi_clean = pd.concat([jun23,jul23,aug23,sep23,\n",
    "                        oct23,nov23,dec23,jan24,\n",
    "                        feb24,mar24,apr24,may24,\n",
    "                        jun24,jul24,aug24], axis=0).convert_dtypes()"
   ]
  },
  {
   "cell_type": "code",
   "execution_count": 55,
   "id": "cc45b9e9",
   "metadata": {},
   "outputs": [
    {
     "data": {
      "text/plain": [
       "Index(['Month', 'MonthNum', 'Year', 'Region', 'Channel', 'Chain Name',\n",
       "       'Customer Name', 'Address', 'City', 'State', 'Zip Code', 'Warehouse',\n",
       "       'MFG PROD CD', 'Brand', 'Prod #', 'Description', 'Pack', 'Size',\n",
       "       'UNFI Published Wholesale', 'Sales', 'Units'],\n",
       "      dtype='object')"
      ]
     },
     "execution_count": 55,
     "metadata": {},
     "output_type": "execute_result"
    }
   ],
   "source": [
    "unfi_clean.columns"
   ]
  },
  {
   "cell_type": "code",
   "execution_count": 20,
   "id": "bc57af09",
   "metadata": {},
   "outputs": [
    {
     "data": {
      "text/html": [
       "<div>\n",
       "<style scoped>\n",
       "    .dataframe tbody tr th:only-of-type {\n",
       "        vertical-align: middle;\n",
       "    }\n",
       "\n",
       "    .dataframe tbody tr th {\n",
       "        vertical-align: top;\n",
       "    }\n",
       "\n",
       "    .dataframe thead th {\n",
       "        text-align: right;\n",
       "    }\n",
       "</style>\n",
       "<table border=\"1\" class=\"dataframe\">\n",
       "  <thead>\n",
       "    <tr style=\"text-align: right;\">\n",
       "      <th></th>\n",
       "      <th>Month</th>\n",
       "      <th>MonthNum</th>\n",
       "      <th>Year</th>\n",
       "      <th>Region</th>\n",
       "      <th>Channel</th>\n",
       "      <th>Chain Name</th>\n",
       "      <th>Customer Name</th>\n",
       "      <th>Address</th>\n",
       "      <th>City</th>\n",
       "      <th>State</th>\n",
       "      <th>...</th>\n",
       "      <th>Warehouse</th>\n",
       "      <th>MFG PROD CD</th>\n",
       "      <th>Brand</th>\n",
       "      <th>Prod #</th>\n",
       "      <th>Description</th>\n",
       "      <th>Pack</th>\n",
       "      <th>Size</th>\n",
       "      <th>UNFI Published Wholesale</th>\n",
       "      <th>Sales</th>\n",
       "      <th>Units</th>\n",
       "    </tr>\n",
       "  </thead>\n",
       "  <tbody>\n",
       "    <tr>\n",
       "      <th>0</th>\n",
       "      <td>June</td>\n",
       "      <td>6</td>\n",
       "      <td>2023</td>\n",
       "      <td>East</td>\n",
       "      <td>Independents</td>\n",
       "      <td>HARVEST TIME</td>\n",
       "      <td>HARVEST TIME</td>\n",
       "      <td>171 CAPITOL ST.</td>\n",
       "      <td>AUGUSTA</td>\n",
       "      <td>ME</td>\n",
       "      <td>...</td>\n",
       "      <td>CHE</td>\n",
       "      <td>800</td>\n",
       "      <td>WILDES</td>\n",
       "      <td>239770</td>\n",
       "      <td>PROTEIN CHIPS,WAFFLES</td>\n",
       "      <td>12</td>\n",
       "      <td>2.25 OZ</td>\n",
       "      <td>53.13</td>\n",
       "      <td>48.88</td>\n",
       "      <td>1</td>\n",
       "    </tr>\n",
       "    <tr>\n",
       "      <th>1</th>\n",
       "      <td>June</td>\n",
       "      <td>6</td>\n",
       "      <td>2023</td>\n",
       "      <td>East</td>\n",
       "      <td>Independents</td>\n",
       "      <td>NATURA U.S. INC</td>\n",
       "      <td>NATURA U.S. INC</td>\n",
       "      <td>4220 HYDE PARK BLVD</td>\n",
       "      <td>NIAGARA FALLS</td>\n",
       "      <td>NY</td>\n",
       "      <td>...</td>\n",
       "      <td>CHE</td>\n",
       "      <td>800</td>\n",
       "      <td>WILDES</td>\n",
       "      <td>239770</td>\n",
       "      <td>PROTEIN CHIPS,WAFFLES</td>\n",
       "      <td>12</td>\n",
       "      <td>2.25 OZ</td>\n",
       "      <td>531.3</td>\n",
       "      <td>451.6</td>\n",
       "      <td>10</td>\n",
       "    </tr>\n",
       "    <tr>\n",
       "      <th>2</th>\n",
       "      <td>June</td>\n",
       "      <td>6</td>\n",
       "      <td>2023</td>\n",
       "      <td>East</td>\n",
       "      <td>Independents</td>\n",
       "      <td>WHOLESOME EARTH</td>\n",
       "      <td>WHOLESOME EARTH</td>\n",
       "      <td>465 EAST MAIN STREET</td>\n",
       "      <td>DAHLONGA</td>\n",
       "      <td>GA</td>\n",
       "      <td>...</td>\n",
       "      <td>ATL</td>\n",
       "      <td>801</td>\n",
       "      <td>WILDES</td>\n",
       "      <td>239771</td>\n",
       "      <td>PROTIEN CHIPS,HIMLYAN SLT</td>\n",
       "      <td>12</td>\n",
       "      <td>2.25 OZ</td>\n",
       "      <td>53.13</td>\n",
       "      <td>53.13</td>\n",
       "      <td>1</td>\n",
       "    </tr>\n",
       "    <tr>\n",
       "      <th>3</th>\n",
       "      <td>June</td>\n",
       "      <td>6</td>\n",
       "      <td>2023</td>\n",
       "      <td>East</td>\n",
       "      <td>Independents</td>\n",
       "      <td>NATURA U.S. INC</td>\n",
       "      <td>NATURA U.S. INC</td>\n",
       "      <td>4220 HYDE PARK BLVD</td>\n",
       "      <td>NIAGARA FALLS</td>\n",
       "      <td>NY</td>\n",
       "      <td>...</td>\n",
       "      <td>CHE</td>\n",
       "      <td>801</td>\n",
       "      <td>WILDES</td>\n",
       "      <td>239771</td>\n",
       "      <td>PROTIEN CHIPS,HIMLYAN SLT</td>\n",
       "      <td>12</td>\n",
       "      <td>2.25 OZ</td>\n",
       "      <td>796.95</td>\n",
       "      <td>677.4</td>\n",
       "      <td>15</td>\n",
       "    </tr>\n",
       "    <tr>\n",
       "      <th>4</th>\n",
       "      <td>June</td>\n",
       "      <td>6</td>\n",
       "      <td>2023</td>\n",
       "      <td>East</td>\n",
       "      <td>Independents</td>\n",
       "      <td>NATURA U.S. INC</td>\n",
       "      <td>NATURA U.S. INC</td>\n",
       "      <td>4220 HYDE PARK BLVD</td>\n",
       "      <td>NIAGARA FALLS</td>\n",
       "      <td>NY</td>\n",
       "      <td>...</td>\n",
       "      <td>CHE</td>\n",
       "      <td>802</td>\n",
       "      <td>WILDES</td>\n",
       "      <td>240634</td>\n",
       "      <td>PROTEIN CHIPS,NASHVIL HOT</td>\n",
       "      <td>12</td>\n",
       "      <td>2.25 OZ</td>\n",
       "      <td>106.26</td>\n",
       "      <td>90.32</td>\n",
       "      <td>2</td>\n",
       "    </tr>\n",
       "    <tr>\n",
       "      <th>...</th>\n",
       "      <td>...</td>\n",
       "      <td>...</td>\n",
       "      <td>...</td>\n",
       "      <td>...</td>\n",
       "      <td>...</td>\n",
       "      <td>...</td>\n",
       "      <td>...</td>\n",
       "      <td>...</td>\n",
       "      <td>...</td>\n",
       "      <td>...</td>\n",
       "      <td>...</td>\n",
       "      <td>...</td>\n",
       "      <td>...</td>\n",
       "      <td>...</td>\n",
       "      <td>...</td>\n",
       "      <td>...</td>\n",
       "      <td>...</td>\n",
       "      <td>...</td>\n",
       "      <td>...</td>\n",
       "      <td>...</td>\n",
       "      <td>...</td>\n",
       "    </tr>\n",
       "    <tr>\n",
       "      <th>5767</th>\n",
       "      <td>August</td>\n",
       "      <td>8</td>\n",
       "      <td>2024</td>\n",
       "      <td>West</td>\n",
       "      <td>Natural - Chain</td>\n",
       "      <td>VITAMIN PLUS</td>\n",
       "      <td>VITAMINS PLUS #230</td>\n",
       "      <td>4210B S.W. 45TH AVE</td>\n",
       "      <td>AMARILLO</td>\n",
       "      <td>TX</td>\n",
       "      <td>...</td>\n",
       "      <td>LAN</td>\n",
       "      <td>884</td>\n",
       "      <td>WILDE</td>\n",
       "      <td>81084</td>\n",
       "      <td>WLD PNK SSLT PROTN CHIPS</td>\n",
       "      <td>12</td>\n",
       "      <td>12/4 OZ</td>\n",
       "      <td>158.36</td>\n",
       "      <td>129.86</td>\n",
       "      <td>2</td>\n",
       "    </tr>\n",
       "    <tr>\n",
       "      <th>5769</th>\n",
       "      <td>August</td>\n",
       "      <td>8</td>\n",
       "      <td>2024</td>\n",
       "      <td>West</td>\n",
       "      <td>E-Commerce</td>\n",
       "      <td>VITACOST</td>\n",
       "      <td>VITACOST.COM (WAVE SEPARATE)</td>\n",
       "      <td>C/O GARY GRAY</td>\n",
       "      <td>LAS VEGAS</td>\n",
       "      <td>NV</td>\n",
       "      <td>...</td>\n",
       "      <td>MOR</td>\n",
       "      <td>34</td>\n",
       "      <td>WILDE</td>\n",
       "      <td>8900</td>\n",
       "      <td>WLD SSLT VNGR PROTN CHP</td>\n",
       "      <td>12</td>\n",
       "      <td>12/2.25OZ</td>\n",
       "      <td>155.31</td>\n",
       "      <td>119.79</td>\n",
       "      <td>3</td>\n",
       "    </tr>\n",
       "    <tr>\n",
       "      <th>5771</th>\n",
       "      <td>August</td>\n",
       "      <td>8</td>\n",
       "      <td>2024</td>\n",
       "      <td>West</td>\n",
       "      <td>E-Commerce</td>\n",
       "      <td>WEEE INC</td>\n",
       "      <td>WEEE LA DRY</td>\n",
       "      <td>C/O HAO EARLEY</td>\n",
       "      <td>LA MIRADA</td>\n",
       "      <td>CA</td>\n",
       "      <td>...</td>\n",
       "      <td>MOR</td>\n",
       "      <td>801</td>\n",
       "      <td>WILDE</td>\n",
       "      <td>55802</td>\n",
       "      <td>WLD HIM SSLT PROTN CHIP</td>\n",
       "      <td>12</td>\n",
       "      <td>12/2.25OZ</td>\n",
       "      <td>103.54</td>\n",
       "      <td>93.96</td>\n",
       "      <td>2</td>\n",
       "    </tr>\n",
       "    <tr>\n",
       "      <th>5772</th>\n",
       "      <td>August</td>\n",
       "      <td>8</td>\n",
       "      <td>2024</td>\n",
       "      <td>West</td>\n",
       "      <td>E-Commerce</td>\n",
       "      <td>WEEE INC</td>\n",
       "      <td>WEEE LA DRY</td>\n",
       "      <td>C/O HAO EARLEY</td>\n",
       "      <td>LA MIRADA</td>\n",
       "      <td>CA</td>\n",
       "      <td>...</td>\n",
       "      <td>MOR</td>\n",
       "      <td>34</td>\n",
       "      <td>WILDE</td>\n",
       "      <td>8900</td>\n",
       "      <td>WLD SSLT VNGR PROTN CHP</td>\n",
       "      <td>12</td>\n",
       "      <td>12/2.25OZ</td>\n",
       "      <td>103.54</td>\n",
       "      <td>93.96</td>\n",
       "      <td>2</td>\n",
       "    </tr>\n",
       "    <tr>\n",
       "      <th>5774</th>\n",
       "      <td>August</td>\n",
       "      <td>8</td>\n",
       "      <td>2024</td>\n",
       "      <td>West</td>\n",
       "      <td>SuperMarket Independent</td>\n",
       "      <td>ZANOTTOS</td>\n",
       "      <td>ZANOTTOS MARKET-SUNNYVALE</td>\n",
       "      <td>C/O NICK OR TROY</td>\n",
       "      <td>SUNNYVALE</td>\n",
       "      <td>CA</td>\n",
       "      <td>...</td>\n",
       "      <td>ROC</td>\n",
       "      <td>801</td>\n",
       "      <td>WILDE</td>\n",
       "      <td>55802</td>\n",
       "      <td>WLD HIM SSLT PROTN CHIP</td>\n",
       "      <td>12</td>\n",
       "      <td>12/2.25OZ</td>\n",
       "      <td>51.77</td>\n",
       "      <td>46.98</td>\n",
       "      <td>1</td>\n",
       "    </tr>\n",
       "  </tbody>\n",
       "</table>\n",
       "<p>90550 rows × 21 columns</p>\n",
       "</div>"
      ],
      "text/plain": [
       "       Month  MonthNum  Year Region                  Channel  \\\n",
       "0       June         6  2023   East             Independents   \n",
       "1       June         6  2023   East             Independents   \n",
       "2       June         6  2023   East             Independents   \n",
       "3       June         6  2023   East             Independents   \n",
       "4       June         6  2023   East             Independents   \n",
       "...      ...       ...   ...    ...                      ...   \n",
       "5767  August         8  2024   West          Natural - Chain   \n",
       "5769  August         8  2024   West               E-Commerce   \n",
       "5771  August         8  2024   West               E-Commerce   \n",
       "5772  August         8  2024   West               E-Commerce   \n",
       "5774  August         8  2024   West  SuperMarket Independent   \n",
       "\n",
       "                     Chain Name                 Customer Name  \\\n",
       "0     HARVEST TIME                  HARVEST TIME                \n",
       "1     NATURA U.S. INC               NATURA U.S. INC             \n",
       "2     WHOLESOME EARTH               WHOLESOME EARTH             \n",
       "3     NATURA U.S. INC               NATURA U.S. INC             \n",
       "4     NATURA U.S. INC               NATURA U.S. INC             \n",
       "...                         ...                           ...   \n",
       "5767               VITAMIN PLUS  VITAMINS PLUS #230             \n",
       "5769                   VITACOST  VITACOST.COM (WAVE SEPARATE)   \n",
       "5771                   WEEE INC  WEEE LA DRY                    \n",
       "5772                   WEEE INC  WEEE LA DRY                    \n",
       "5774                   ZANOTTOS  ZANOTTOS MARKET-SUNNYVALE      \n",
       "\n",
       "                           Address                City State  ... Warehouse  \\\n",
       "0        171 CAPITOL ST.             AUGUSTA              ME  ...       CHE   \n",
       "1        4220 HYDE PARK BLVD         NIAGARA FALLS        NY  ...       CHE   \n",
       "2        465 EAST MAIN STREET        DAHLONGA             GA  ...       ATL   \n",
       "3        4220 HYDE PARK BLVD         NIAGARA FALLS        NY  ...       CHE   \n",
       "4        4220 HYDE PARK BLVD         NIAGARA FALLS        NY  ...       CHE   \n",
       "...                            ...                 ...   ...  ...       ...   \n",
       "5767  4210B S.W. 45TH AVE           AMARILLO              TX  ...       LAN   \n",
       "5769  C/O GARY GRAY                 LAS VEGAS             NV  ...       MOR   \n",
       "5771  C/O HAO EARLEY                LA MIRADA             CA  ...       MOR   \n",
       "5772  C/O HAO EARLEY                LA MIRADA             CA  ...       MOR   \n",
       "5774  C/O NICK OR TROY              SUNNYVALE             CA  ...       ROC   \n",
       "\n",
       "     MFG PROD CD   Brand  Prod #                Description Pack       Size  \\\n",
       "0            800  WILDES  239770  PROTEIN CHIPS,WAFFLES       12   2.25 OZ    \n",
       "1            800  WILDES  239770  PROTEIN CHIPS,WAFFLES       12   2.25 OZ    \n",
       "2            801  WILDES  239771  PROTIEN CHIPS,HIMLYAN SLT   12   2.25 OZ    \n",
       "3            801  WILDES  239771  PROTIEN CHIPS,HIMLYAN SLT   12   2.25 OZ    \n",
       "4            802  WILDES  240634  PROTEIN CHIPS,NASHVIL HOT   12   2.25 OZ    \n",
       "...          ...     ...     ...                        ...  ...        ...   \n",
       "5767         884   WILDE   81084   WLD PNK SSLT PROTN CHIPS   12    12/4 OZ   \n",
       "5769          34   WILDE    8900    WLD SSLT VNGR PROTN CHP   12  12/2.25OZ   \n",
       "5771         801   WILDE   55802    WLD HIM SSLT PROTN CHIP   12  12/2.25OZ   \n",
       "5772          34   WILDE    8900    WLD SSLT VNGR PROTN CHP   12  12/2.25OZ   \n",
       "5774         801   WILDE   55802    WLD HIM SSLT PROTN CHIP   12  12/2.25OZ   \n",
       "\n",
       "     UNFI Published Wholesale   Sales  Units  \n",
       "0                       53.13   48.88      1  \n",
       "1                       531.3   451.6     10  \n",
       "2                       53.13   53.13      1  \n",
       "3                      796.95   677.4     15  \n",
       "4                      106.26   90.32      2  \n",
       "...                       ...     ...    ...  \n",
       "5767                   158.36  129.86      2  \n",
       "5769                   155.31  119.79      3  \n",
       "5771                   103.54   93.96      2  \n",
       "5772                   103.54   93.96      2  \n",
       "5774                    51.77   46.98      1  \n",
       "\n",
       "[90550 rows x 21 columns]"
      ]
     },
     "execution_count": 20,
     "metadata": {},
     "output_type": "execute_result"
    }
   ],
   "source": [
    "unfi_clean"
   ]
  },
  {
   "cell_type": "code",
   "execution_count": 21,
   "id": "6d40d680",
   "metadata": {},
   "outputs": [],
   "source": [
    "# clean the Size column\n",
    "\n",
    "def clean_size(size):\n",
    "    size = size.replace(' ', '').upper()  # Remove spaces and standardize case\n",
    "    if '2.25' in size:\n",
    "        return '2.25 OZ'\n",
    "    elif '1.34' in size:\n",
    "        return '1.34 OZ'\n",
    "    else:\n",
    "        return '4 OZ'  # Return the size as is if it doesn't match any condition\n",
    "    \n",
    "unfi_clean['Size'] = unfi_clean['Size'].apply(clean_size).convert_dtypes()"
   ]
  },
  {
   "cell_type": "code",
   "execution_count": 22,
   "id": "ddaebc7b",
   "metadata": {},
   "outputs": [],
   "source": [
    "#  add month_year column\n",
    "\n",
    "unfi_clean['MonthYear'] = unfi_clean['MonthNum'].astype(str).str.zfill(2) + '-' + unfi_clean['Year'].astype(str)"
   ]
  },
  {
   "cell_type": "code",
   "execution_count": 23,
   "id": "731be947",
   "metadata": {},
   "outputs": [],
   "source": [
    "# Function to map categories to \"Grocery\" or keep them the same\n",
    "def categorize(segment):\n",
    "\n",
    "    grocery_segments = ['Independents', 'SuperMarket Independent', 'SuperMarket Chain', \n",
    "                          'Natural - Chain', 'SuperMarket']\n",
    "    away_from_home_segments = ['Food Service', 'Alternative Channel']\n",
    "\n",
    "    if segment in grocery_segments:\n",
    "        return 'Grocery'\n",
    "    elif segment in away_from_home_segments:\n",
    "        return 'Away From Home'\n",
    "    else:\n",
    "        return 'Other'\n",
    "    \n",
    "unfi_clean.rename(columns = {'Channel':'Segment'}, inplace = True)\n",
    "    \n",
    "# Apply the function to create a new column\n",
    "unfi_clean['Channel'] = unfi_clean['Segment'].apply(categorize)"
   ]
  },
  {
   "cell_type": "code",
   "execution_count": 24,
   "id": "c398f785",
   "metadata": {},
   "outputs": [
    {
     "data": {
      "text/html": [
       "<div>\n",
       "<style scoped>\n",
       "    .dataframe tbody tr th:only-of-type {\n",
       "        vertical-align: middle;\n",
       "    }\n",
       "\n",
       "    .dataframe tbody tr th {\n",
       "        vertical-align: top;\n",
       "    }\n",
       "\n",
       "    .dataframe thead th {\n",
       "        text-align: right;\n",
       "    }\n",
       "</style>\n",
       "<table border=\"1\" class=\"dataframe\">\n",
       "  <thead>\n",
       "    <tr style=\"text-align: right;\">\n",
       "      <th></th>\n",
       "      <th>Month</th>\n",
       "      <th>MonthNum</th>\n",
       "      <th>Year</th>\n",
       "      <th>Region</th>\n",
       "      <th>Segment</th>\n",
       "      <th>Chain Name</th>\n",
       "      <th>Customer Name</th>\n",
       "      <th>Address</th>\n",
       "      <th>City</th>\n",
       "      <th>State</th>\n",
       "      <th>...</th>\n",
       "      <th>Brand</th>\n",
       "      <th>Prod #</th>\n",
       "      <th>Description</th>\n",
       "      <th>Pack</th>\n",
       "      <th>Size</th>\n",
       "      <th>UNFI Published Wholesale</th>\n",
       "      <th>Sales</th>\n",
       "      <th>Units</th>\n",
       "      <th>MonthYear</th>\n",
       "      <th>Channel</th>\n",
       "    </tr>\n",
       "  </thead>\n",
       "  <tbody>\n",
       "    <tr>\n",
       "      <th>0</th>\n",
       "      <td>June</td>\n",
       "      <td>6</td>\n",
       "      <td>2023</td>\n",
       "      <td>East</td>\n",
       "      <td>Independents</td>\n",
       "      <td>HARVEST TIME</td>\n",
       "      <td>HARVEST TIME</td>\n",
       "      <td>171 CAPITOL ST.</td>\n",
       "      <td>AUGUSTA</td>\n",
       "      <td>ME</td>\n",
       "      <td>...</td>\n",
       "      <td>WILDES</td>\n",
       "      <td>239770</td>\n",
       "      <td>PROTEIN CHIPS,WAFFLES</td>\n",
       "      <td>12</td>\n",
       "      <td>2.25 OZ</td>\n",
       "      <td>53.13</td>\n",
       "      <td>48.88</td>\n",
       "      <td>1</td>\n",
       "      <td>06-2023</td>\n",
       "      <td>Grocery</td>\n",
       "    </tr>\n",
       "    <tr>\n",
       "      <th>1</th>\n",
       "      <td>June</td>\n",
       "      <td>6</td>\n",
       "      <td>2023</td>\n",
       "      <td>East</td>\n",
       "      <td>Independents</td>\n",
       "      <td>NATURA U.S. INC</td>\n",
       "      <td>NATURA U.S. INC</td>\n",
       "      <td>4220 HYDE PARK BLVD</td>\n",
       "      <td>NIAGARA FALLS</td>\n",
       "      <td>NY</td>\n",
       "      <td>...</td>\n",
       "      <td>WILDES</td>\n",
       "      <td>239770</td>\n",
       "      <td>PROTEIN CHIPS,WAFFLES</td>\n",
       "      <td>12</td>\n",
       "      <td>2.25 OZ</td>\n",
       "      <td>531.3</td>\n",
       "      <td>451.6</td>\n",
       "      <td>10</td>\n",
       "      <td>06-2023</td>\n",
       "      <td>Grocery</td>\n",
       "    </tr>\n",
       "    <tr>\n",
       "      <th>2</th>\n",
       "      <td>June</td>\n",
       "      <td>6</td>\n",
       "      <td>2023</td>\n",
       "      <td>East</td>\n",
       "      <td>Independents</td>\n",
       "      <td>WHOLESOME EARTH</td>\n",
       "      <td>WHOLESOME EARTH</td>\n",
       "      <td>465 EAST MAIN STREET</td>\n",
       "      <td>DAHLONGA</td>\n",
       "      <td>GA</td>\n",
       "      <td>...</td>\n",
       "      <td>WILDES</td>\n",
       "      <td>239771</td>\n",
       "      <td>PROTIEN CHIPS,HIMLYAN SLT</td>\n",
       "      <td>12</td>\n",
       "      <td>2.25 OZ</td>\n",
       "      <td>53.13</td>\n",
       "      <td>53.13</td>\n",
       "      <td>1</td>\n",
       "      <td>06-2023</td>\n",
       "      <td>Grocery</td>\n",
       "    </tr>\n",
       "    <tr>\n",
       "      <th>3</th>\n",
       "      <td>June</td>\n",
       "      <td>6</td>\n",
       "      <td>2023</td>\n",
       "      <td>East</td>\n",
       "      <td>Independents</td>\n",
       "      <td>NATURA U.S. INC</td>\n",
       "      <td>NATURA U.S. INC</td>\n",
       "      <td>4220 HYDE PARK BLVD</td>\n",
       "      <td>NIAGARA FALLS</td>\n",
       "      <td>NY</td>\n",
       "      <td>...</td>\n",
       "      <td>WILDES</td>\n",
       "      <td>239771</td>\n",
       "      <td>PROTIEN CHIPS,HIMLYAN SLT</td>\n",
       "      <td>12</td>\n",
       "      <td>2.25 OZ</td>\n",
       "      <td>796.95</td>\n",
       "      <td>677.4</td>\n",
       "      <td>15</td>\n",
       "      <td>06-2023</td>\n",
       "      <td>Grocery</td>\n",
       "    </tr>\n",
       "    <tr>\n",
       "      <th>4</th>\n",
       "      <td>June</td>\n",
       "      <td>6</td>\n",
       "      <td>2023</td>\n",
       "      <td>East</td>\n",
       "      <td>Independents</td>\n",
       "      <td>NATURA U.S. INC</td>\n",
       "      <td>NATURA U.S. INC</td>\n",
       "      <td>4220 HYDE PARK BLVD</td>\n",
       "      <td>NIAGARA FALLS</td>\n",
       "      <td>NY</td>\n",
       "      <td>...</td>\n",
       "      <td>WILDES</td>\n",
       "      <td>240634</td>\n",
       "      <td>PROTEIN CHIPS,NASHVIL HOT</td>\n",
       "      <td>12</td>\n",
       "      <td>2.25 OZ</td>\n",
       "      <td>106.26</td>\n",
       "      <td>90.32</td>\n",
       "      <td>2</td>\n",
       "      <td>06-2023</td>\n",
       "      <td>Grocery</td>\n",
       "    </tr>\n",
       "    <tr>\n",
       "      <th>...</th>\n",
       "      <td>...</td>\n",
       "      <td>...</td>\n",
       "      <td>...</td>\n",
       "      <td>...</td>\n",
       "      <td>...</td>\n",
       "      <td>...</td>\n",
       "      <td>...</td>\n",
       "      <td>...</td>\n",
       "      <td>...</td>\n",
       "      <td>...</td>\n",
       "      <td>...</td>\n",
       "      <td>...</td>\n",
       "      <td>...</td>\n",
       "      <td>...</td>\n",
       "      <td>...</td>\n",
       "      <td>...</td>\n",
       "      <td>...</td>\n",
       "      <td>...</td>\n",
       "      <td>...</td>\n",
       "      <td>...</td>\n",
       "      <td>...</td>\n",
       "    </tr>\n",
       "    <tr>\n",
       "      <th>5767</th>\n",
       "      <td>August</td>\n",
       "      <td>8</td>\n",
       "      <td>2024</td>\n",
       "      <td>West</td>\n",
       "      <td>Natural - Chain</td>\n",
       "      <td>VITAMIN PLUS</td>\n",
       "      <td>VITAMINS PLUS #230</td>\n",
       "      <td>4210B S.W. 45TH AVE</td>\n",
       "      <td>AMARILLO</td>\n",
       "      <td>TX</td>\n",
       "      <td>...</td>\n",
       "      <td>WILDE</td>\n",
       "      <td>81084</td>\n",
       "      <td>WLD PNK SSLT PROTN CHIPS</td>\n",
       "      <td>12</td>\n",
       "      <td>4 OZ</td>\n",
       "      <td>158.36</td>\n",
       "      <td>129.86</td>\n",
       "      <td>2</td>\n",
       "      <td>08-2024</td>\n",
       "      <td>Grocery</td>\n",
       "    </tr>\n",
       "    <tr>\n",
       "      <th>5769</th>\n",
       "      <td>August</td>\n",
       "      <td>8</td>\n",
       "      <td>2024</td>\n",
       "      <td>West</td>\n",
       "      <td>E-Commerce</td>\n",
       "      <td>VITACOST</td>\n",
       "      <td>VITACOST.COM (WAVE SEPARATE)</td>\n",
       "      <td>C/O GARY GRAY</td>\n",
       "      <td>LAS VEGAS</td>\n",
       "      <td>NV</td>\n",
       "      <td>...</td>\n",
       "      <td>WILDE</td>\n",
       "      <td>8900</td>\n",
       "      <td>WLD SSLT VNGR PROTN CHP</td>\n",
       "      <td>12</td>\n",
       "      <td>2.25 OZ</td>\n",
       "      <td>155.31</td>\n",
       "      <td>119.79</td>\n",
       "      <td>3</td>\n",
       "      <td>08-2024</td>\n",
       "      <td>Other</td>\n",
       "    </tr>\n",
       "    <tr>\n",
       "      <th>5771</th>\n",
       "      <td>August</td>\n",
       "      <td>8</td>\n",
       "      <td>2024</td>\n",
       "      <td>West</td>\n",
       "      <td>E-Commerce</td>\n",
       "      <td>WEEE INC</td>\n",
       "      <td>WEEE LA DRY</td>\n",
       "      <td>C/O HAO EARLEY</td>\n",
       "      <td>LA MIRADA</td>\n",
       "      <td>CA</td>\n",
       "      <td>...</td>\n",
       "      <td>WILDE</td>\n",
       "      <td>55802</td>\n",
       "      <td>WLD HIM SSLT PROTN CHIP</td>\n",
       "      <td>12</td>\n",
       "      <td>2.25 OZ</td>\n",
       "      <td>103.54</td>\n",
       "      <td>93.96</td>\n",
       "      <td>2</td>\n",
       "      <td>08-2024</td>\n",
       "      <td>Other</td>\n",
       "    </tr>\n",
       "    <tr>\n",
       "      <th>5772</th>\n",
       "      <td>August</td>\n",
       "      <td>8</td>\n",
       "      <td>2024</td>\n",
       "      <td>West</td>\n",
       "      <td>E-Commerce</td>\n",
       "      <td>WEEE INC</td>\n",
       "      <td>WEEE LA DRY</td>\n",
       "      <td>C/O HAO EARLEY</td>\n",
       "      <td>LA MIRADA</td>\n",
       "      <td>CA</td>\n",
       "      <td>...</td>\n",
       "      <td>WILDE</td>\n",
       "      <td>8900</td>\n",
       "      <td>WLD SSLT VNGR PROTN CHP</td>\n",
       "      <td>12</td>\n",
       "      <td>2.25 OZ</td>\n",
       "      <td>103.54</td>\n",
       "      <td>93.96</td>\n",
       "      <td>2</td>\n",
       "      <td>08-2024</td>\n",
       "      <td>Other</td>\n",
       "    </tr>\n",
       "    <tr>\n",
       "      <th>5774</th>\n",
       "      <td>August</td>\n",
       "      <td>8</td>\n",
       "      <td>2024</td>\n",
       "      <td>West</td>\n",
       "      <td>SuperMarket Independent</td>\n",
       "      <td>ZANOTTOS</td>\n",
       "      <td>ZANOTTOS MARKET-SUNNYVALE</td>\n",
       "      <td>C/O NICK OR TROY</td>\n",
       "      <td>SUNNYVALE</td>\n",
       "      <td>CA</td>\n",
       "      <td>...</td>\n",
       "      <td>WILDE</td>\n",
       "      <td>55802</td>\n",
       "      <td>WLD HIM SSLT PROTN CHIP</td>\n",
       "      <td>12</td>\n",
       "      <td>2.25 OZ</td>\n",
       "      <td>51.77</td>\n",
       "      <td>46.98</td>\n",
       "      <td>1</td>\n",
       "      <td>08-2024</td>\n",
       "      <td>Grocery</td>\n",
       "    </tr>\n",
       "  </tbody>\n",
       "</table>\n",
       "<p>90550 rows × 23 columns</p>\n",
       "</div>"
      ],
      "text/plain": [
       "       Month  MonthNum  Year Region                  Segment  \\\n",
       "0       June         6  2023   East             Independents   \n",
       "1       June         6  2023   East             Independents   \n",
       "2       June         6  2023   East             Independents   \n",
       "3       June         6  2023   East             Independents   \n",
       "4       June         6  2023   East             Independents   \n",
       "...      ...       ...   ...    ...                      ...   \n",
       "5767  August         8  2024   West          Natural - Chain   \n",
       "5769  August         8  2024   West               E-Commerce   \n",
       "5771  August         8  2024   West               E-Commerce   \n",
       "5772  August         8  2024   West               E-Commerce   \n",
       "5774  August         8  2024   West  SuperMarket Independent   \n",
       "\n",
       "                     Chain Name                 Customer Name  \\\n",
       "0     HARVEST TIME                  HARVEST TIME                \n",
       "1     NATURA U.S. INC               NATURA U.S. INC             \n",
       "2     WHOLESOME EARTH               WHOLESOME EARTH             \n",
       "3     NATURA U.S. INC               NATURA U.S. INC             \n",
       "4     NATURA U.S. INC               NATURA U.S. INC             \n",
       "...                         ...                           ...   \n",
       "5767               VITAMIN PLUS  VITAMINS PLUS #230             \n",
       "5769                   VITACOST  VITACOST.COM (WAVE SEPARATE)   \n",
       "5771                   WEEE INC  WEEE LA DRY                    \n",
       "5772                   WEEE INC  WEEE LA DRY                    \n",
       "5774                   ZANOTTOS  ZANOTTOS MARKET-SUNNYVALE      \n",
       "\n",
       "                           Address                City State  ...   Brand  \\\n",
       "0        171 CAPITOL ST.             AUGUSTA              ME  ...  WILDES   \n",
       "1        4220 HYDE PARK BLVD         NIAGARA FALLS        NY  ...  WILDES   \n",
       "2        465 EAST MAIN STREET        DAHLONGA             GA  ...  WILDES   \n",
       "3        4220 HYDE PARK BLVD         NIAGARA FALLS        NY  ...  WILDES   \n",
       "4        4220 HYDE PARK BLVD         NIAGARA FALLS        NY  ...  WILDES   \n",
       "...                            ...                 ...   ...  ...     ...   \n",
       "5767  4210B S.W. 45TH AVE           AMARILLO              TX  ...   WILDE   \n",
       "5769  C/O GARY GRAY                 LAS VEGAS             NV  ...   WILDE   \n",
       "5771  C/O HAO EARLEY                LA MIRADA             CA  ...   WILDE   \n",
       "5772  C/O HAO EARLEY                LA MIRADA             CA  ...   WILDE   \n",
       "5774  C/O NICK OR TROY              SUNNYVALE             CA  ...   WILDE   \n",
       "\n",
       "      Prod #                Description Pack     Size  \\\n",
       "0     239770  PROTEIN CHIPS,WAFFLES       12  2.25 OZ   \n",
       "1     239770  PROTEIN CHIPS,WAFFLES       12  2.25 OZ   \n",
       "2     239771  PROTIEN CHIPS,HIMLYAN SLT   12  2.25 OZ   \n",
       "3     239771  PROTIEN CHIPS,HIMLYAN SLT   12  2.25 OZ   \n",
       "4     240634  PROTEIN CHIPS,NASHVIL HOT   12  2.25 OZ   \n",
       "...      ...                        ...  ...      ...   \n",
       "5767   81084   WLD PNK SSLT PROTN CHIPS   12     4 OZ   \n",
       "5769    8900    WLD SSLT VNGR PROTN CHP   12  2.25 OZ   \n",
       "5771   55802    WLD HIM SSLT PROTN CHIP   12  2.25 OZ   \n",
       "5772    8900    WLD SSLT VNGR PROTN CHP   12  2.25 OZ   \n",
       "5774   55802    WLD HIM SSLT PROTN CHIP   12  2.25 OZ   \n",
       "\n",
       "     UNFI Published Wholesale   Sales Units  MonthYear  Channel  \n",
       "0                       53.13   48.88     1    06-2023  Grocery  \n",
       "1                       531.3   451.6    10    06-2023  Grocery  \n",
       "2                       53.13   53.13     1    06-2023  Grocery  \n",
       "3                      796.95   677.4    15    06-2023  Grocery  \n",
       "4                      106.26   90.32     2    06-2023  Grocery  \n",
       "...                       ...     ...   ...        ...      ...  \n",
       "5767                   158.36  129.86     2    08-2024  Grocery  \n",
       "5769                   155.31  119.79     3    08-2024    Other  \n",
       "5771                   103.54   93.96     2    08-2024    Other  \n",
       "5772                   103.54   93.96     2    08-2024    Other  \n",
       "5774                    51.77   46.98     1    08-2024  Grocery  \n",
       "\n",
       "[90550 rows x 23 columns]"
      ]
     },
     "execution_count": 24,
     "metadata": {},
     "output_type": "execute_result"
    }
   ],
   "source": [
    "unfi_clean"
   ]
  },
  {
   "cell_type": "code",
   "execution_count": 25,
   "id": "baef69dd",
   "metadata": {},
   "outputs": [
    {
     "data": {
      "text/plain": [
       "23"
      ]
     },
     "execution_count": 25,
     "metadata": {},
     "output_type": "execute_result"
    }
   ],
   "source": [
    "len(unfi_clean.columns)"
   ]
  },
  {
   "cell_type": "code",
   "execution_count": 26,
   "id": "a0ef8a50",
   "metadata": {},
   "outputs": [],
   "source": [
    "unfi_clean.to_csv(r\"C:\\Users\\mikej\\Desktop\\unfi\\unfi_clean.csv\", index=False)"
   ]
  },
  {
   "cell_type": "code",
   "execution_count": 27,
   "id": "013cdede",
   "metadata": {},
   "outputs": [
    {
     "data": {
      "application/vnd.plotly.v1+json": {
       "config": {
        "plotlyServerURL": "https://plot.ly"
       },
       "data": [
        {
         "alignmentgroup": "True",
         "hovertemplate": "=%{y}<br>Year=%{marker.color}<extra></extra>",
         "legendgroup": "",
         "marker": {
          "color": [
           2023,
           2023,
           2023,
           2023,
           2023,
           2023,
           2023,
           2024,
           2024,
           2024,
           2024,
           2024,
           2024,
           2024,
           2024
          ],
          "coloraxis": "coloraxis",
          "pattern": {
           "shape": ""
          }
         },
         "name": "",
         "offsetgroup": "",
         "orientation": "v",
         "showlegend": false,
         "textposition": "auto",
         "texttemplate": "%{y:.3s}",
         "type": "bar",
         "x": [
          "06-2023",
          "07-2023",
          "08-2023",
          "09-2023",
          "10-2023",
          "11-2023",
          "12-2023",
          "01-2024",
          "02-2024",
          "03-2024",
          "04-2024",
          "05-2024",
          "06-2024",
          "07-2024",
          "08-2024"
         ],
         "xaxis": "x",
         "y": [
          473079.95,
          787013.51,
          412413.7,
          472826.59,
          470402.9,
          438063.28,
          333401.82,
          575875.99,
          502292.51,
          696171.02,
          510139.9,
          881281.56,
          523407.63,
          1027875.08,
          492173.46
         ],
         "yaxis": "y"
        }
       ],
       "layout": {
        "barmode": "relative",
        "coloraxis": {
         "colorbar": {
          "title": {
           "text": "Year"
          }
         },
         "colorscale": [
          [
           0,
           "#0d0887"
          ],
          [
           0.1111111111111111,
           "#46039f"
          ],
          [
           0.2222222222222222,
           "#7201a8"
          ],
          [
           0.3333333333333333,
           "#9c179e"
          ],
          [
           0.4444444444444444,
           "#bd3786"
          ],
          [
           0.5555555555555556,
           "#d8576b"
          ],
          [
           0.6666666666666666,
           "#ed7953"
          ],
          [
           0.7777777777777778,
           "#fb9f3a"
          ],
          [
           0.8888888888888888,
           "#fdca26"
          ],
          [
           1,
           "#f0f921"
          ]
         ],
         "showscale": false
        },
        "height": 400,
        "legend": {
         "tracegroupgap": 0
        },
        "template": {
         "data": {
          "bar": [
           {
            "error_x": {
             "color": "#2a3f5f"
            },
            "error_y": {
             "color": "#2a3f5f"
            },
            "marker": {
             "line": {
              "color": "white",
              "width": 0.5
             },
             "pattern": {
              "fillmode": "overlay",
              "size": 10,
              "solidity": 0.2
             }
            },
            "type": "bar"
           }
          ],
          "barpolar": [
           {
            "marker": {
             "line": {
              "color": "white",
              "width": 0.5
             },
             "pattern": {
              "fillmode": "overlay",
              "size": 10,
              "solidity": 0.2
             }
            },
            "type": "barpolar"
           }
          ],
          "carpet": [
           {
            "aaxis": {
             "endlinecolor": "#2a3f5f",
             "gridcolor": "#C8D4E3",
             "linecolor": "#C8D4E3",
             "minorgridcolor": "#C8D4E3",
             "startlinecolor": "#2a3f5f"
            },
            "baxis": {
             "endlinecolor": "#2a3f5f",
             "gridcolor": "#C8D4E3",
             "linecolor": "#C8D4E3",
             "minorgridcolor": "#C8D4E3",
             "startlinecolor": "#2a3f5f"
            },
            "type": "carpet"
           }
          ],
          "choropleth": [
           {
            "colorbar": {
             "outlinewidth": 0,
             "ticks": ""
            },
            "type": "choropleth"
           }
          ],
          "contour": [
           {
            "colorbar": {
             "outlinewidth": 0,
             "ticks": ""
            },
            "colorscale": [
             [
              0,
              "#0d0887"
             ],
             [
              0.1111111111111111,
              "#46039f"
             ],
             [
              0.2222222222222222,
              "#7201a8"
             ],
             [
              0.3333333333333333,
              "#9c179e"
             ],
             [
              0.4444444444444444,
              "#bd3786"
             ],
             [
              0.5555555555555556,
              "#d8576b"
             ],
             [
              0.6666666666666666,
              "#ed7953"
             ],
             [
              0.7777777777777778,
              "#fb9f3a"
             ],
             [
              0.8888888888888888,
              "#fdca26"
             ],
             [
              1,
              "#f0f921"
             ]
            ],
            "type": "contour"
           }
          ],
          "contourcarpet": [
           {
            "colorbar": {
             "outlinewidth": 0,
             "ticks": ""
            },
            "type": "contourcarpet"
           }
          ],
          "heatmap": [
           {
            "colorbar": {
             "outlinewidth": 0,
             "ticks": ""
            },
            "colorscale": [
             [
              0,
              "#0d0887"
             ],
             [
              0.1111111111111111,
              "#46039f"
             ],
             [
              0.2222222222222222,
              "#7201a8"
             ],
             [
              0.3333333333333333,
              "#9c179e"
             ],
             [
              0.4444444444444444,
              "#bd3786"
             ],
             [
              0.5555555555555556,
              "#d8576b"
             ],
             [
              0.6666666666666666,
              "#ed7953"
             ],
             [
              0.7777777777777778,
              "#fb9f3a"
             ],
             [
              0.8888888888888888,
              "#fdca26"
             ],
             [
              1,
              "#f0f921"
             ]
            ],
            "type": "heatmap"
           }
          ],
          "heatmapgl": [
           {
            "colorbar": {
             "outlinewidth": 0,
             "ticks": ""
            },
            "colorscale": [
             [
              0,
              "#0d0887"
             ],
             [
              0.1111111111111111,
              "#46039f"
             ],
             [
              0.2222222222222222,
              "#7201a8"
             ],
             [
              0.3333333333333333,
              "#9c179e"
             ],
             [
              0.4444444444444444,
              "#bd3786"
             ],
             [
              0.5555555555555556,
              "#d8576b"
             ],
             [
              0.6666666666666666,
              "#ed7953"
             ],
             [
              0.7777777777777778,
              "#fb9f3a"
             ],
             [
              0.8888888888888888,
              "#fdca26"
             ],
             [
              1,
              "#f0f921"
             ]
            ],
            "type": "heatmapgl"
           }
          ],
          "histogram": [
           {
            "marker": {
             "pattern": {
              "fillmode": "overlay",
              "size": 10,
              "solidity": 0.2
             }
            },
            "type": "histogram"
           }
          ],
          "histogram2d": [
           {
            "colorbar": {
             "outlinewidth": 0,
             "ticks": ""
            },
            "colorscale": [
             [
              0,
              "#0d0887"
             ],
             [
              0.1111111111111111,
              "#46039f"
             ],
             [
              0.2222222222222222,
              "#7201a8"
             ],
             [
              0.3333333333333333,
              "#9c179e"
             ],
             [
              0.4444444444444444,
              "#bd3786"
             ],
             [
              0.5555555555555556,
              "#d8576b"
             ],
             [
              0.6666666666666666,
              "#ed7953"
             ],
             [
              0.7777777777777778,
              "#fb9f3a"
             ],
             [
              0.8888888888888888,
              "#fdca26"
             ],
             [
              1,
              "#f0f921"
             ]
            ],
            "type": "histogram2d"
           }
          ],
          "histogram2dcontour": [
           {
            "colorbar": {
             "outlinewidth": 0,
             "ticks": ""
            },
            "colorscale": [
             [
              0,
              "#0d0887"
             ],
             [
              0.1111111111111111,
              "#46039f"
             ],
             [
              0.2222222222222222,
              "#7201a8"
             ],
             [
              0.3333333333333333,
              "#9c179e"
             ],
             [
              0.4444444444444444,
              "#bd3786"
             ],
             [
              0.5555555555555556,
              "#d8576b"
             ],
             [
              0.6666666666666666,
              "#ed7953"
             ],
             [
              0.7777777777777778,
              "#fb9f3a"
             ],
             [
              0.8888888888888888,
              "#fdca26"
             ],
             [
              1,
              "#f0f921"
             ]
            ],
            "type": "histogram2dcontour"
           }
          ],
          "mesh3d": [
           {
            "colorbar": {
             "outlinewidth": 0,
             "ticks": ""
            },
            "type": "mesh3d"
           }
          ],
          "parcoords": [
           {
            "line": {
             "colorbar": {
              "outlinewidth": 0,
              "ticks": ""
             }
            },
            "type": "parcoords"
           }
          ],
          "pie": [
           {
            "automargin": true,
            "type": "pie"
           }
          ],
          "scatter": [
           {
            "fillpattern": {
             "fillmode": "overlay",
             "size": 10,
             "solidity": 0.2
            },
            "type": "scatter"
           }
          ],
          "scatter3d": [
           {
            "line": {
             "colorbar": {
              "outlinewidth": 0,
              "ticks": ""
             }
            },
            "marker": {
             "colorbar": {
              "outlinewidth": 0,
              "ticks": ""
             }
            },
            "type": "scatter3d"
           }
          ],
          "scattercarpet": [
           {
            "marker": {
             "colorbar": {
              "outlinewidth": 0,
              "ticks": ""
             }
            },
            "type": "scattercarpet"
           }
          ],
          "scattergeo": [
           {
            "marker": {
             "colorbar": {
              "outlinewidth": 0,
              "ticks": ""
             }
            },
            "type": "scattergeo"
           }
          ],
          "scattergl": [
           {
            "marker": {
             "colorbar": {
              "outlinewidth": 0,
              "ticks": ""
             }
            },
            "type": "scattergl"
           }
          ],
          "scattermapbox": [
           {
            "marker": {
             "colorbar": {
              "outlinewidth": 0,
              "ticks": ""
             }
            },
            "type": "scattermapbox"
           }
          ],
          "scatterpolar": [
           {
            "marker": {
             "colorbar": {
              "outlinewidth": 0,
              "ticks": ""
             }
            },
            "type": "scatterpolar"
           }
          ],
          "scatterpolargl": [
           {
            "marker": {
             "colorbar": {
              "outlinewidth": 0,
              "ticks": ""
             }
            },
            "type": "scatterpolargl"
           }
          ],
          "scatterternary": [
           {
            "marker": {
             "colorbar": {
              "outlinewidth": 0,
              "ticks": ""
             }
            },
            "type": "scatterternary"
           }
          ],
          "surface": [
           {
            "colorbar": {
             "outlinewidth": 0,
             "ticks": ""
            },
            "colorscale": [
             [
              0,
              "#0d0887"
             ],
             [
              0.1111111111111111,
              "#46039f"
             ],
             [
              0.2222222222222222,
              "#7201a8"
             ],
             [
              0.3333333333333333,
              "#9c179e"
             ],
             [
              0.4444444444444444,
              "#bd3786"
             ],
             [
              0.5555555555555556,
              "#d8576b"
             ],
             [
              0.6666666666666666,
              "#ed7953"
             ],
             [
              0.7777777777777778,
              "#fb9f3a"
             ],
             [
              0.8888888888888888,
              "#fdca26"
             ],
             [
              1,
              "#f0f921"
             ]
            ],
            "type": "surface"
           }
          ],
          "table": [
           {
            "cells": {
             "fill": {
              "color": "#EBF0F8"
             },
             "line": {
              "color": "white"
             }
            },
            "header": {
             "fill": {
              "color": "#C8D4E3"
             },
             "line": {
              "color": "white"
             }
            },
            "type": "table"
           }
          ]
         },
         "layout": {
          "annotationdefaults": {
           "arrowcolor": "#2a3f5f",
           "arrowhead": 0,
           "arrowwidth": 1
          },
          "autotypenumbers": "strict",
          "coloraxis": {
           "colorbar": {
            "outlinewidth": 0,
            "ticks": ""
           }
          },
          "colorscale": {
           "diverging": [
            [
             0,
             "#8e0152"
            ],
            [
             0.1,
             "#c51b7d"
            ],
            [
             0.2,
             "#de77ae"
            ],
            [
             0.3,
             "#f1b6da"
            ],
            [
             0.4,
             "#fde0ef"
            ],
            [
             0.5,
             "#f7f7f7"
            ],
            [
             0.6,
             "#e6f5d0"
            ],
            [
             0.7,
             "#b8e186"
            ],
            [
             0.8,
             "#7fbc41"
            ],
            [
             0.9,
             "#4d9221"
            ],
            [
             1,
             "#276419"
            ]
           ],
           "sequential": [
            [
             0,
             "#0d0887"
            ],
            [
             0.1111111111111111,
             "#46039f"
            ],
            [
             0.2222222222222222,
             "#7201a8"
            ],
            [
             0.3333333333333333,
             "#9c179e"
            ],
            [
             0.4444444444444444,
             "#bd3786"
            ],
            [
             0.5555555555555556,
             "#d8576b"
            ],
            [
             0.6666666666666666,
             "#ed7953"
            ],
            [
             0.7777777777777778,
             "#fb9f3a"
            ],
            [
             0.8888888888888888,
             "#fdca26"
            ],
            [
             1,
             "#f0f921"
            ]
           ],
           "sequentialminus": [
            [
             0,
             "#0d0887"
            ],
            [
             0.1111111111111111,
             "#46039f"
            ],
            [
             0.2222222222222222,
             "#7201a8"
            ],
            [
             0.3333333333333333,
             "#9c179e"
            ],
            [
             0.4444444444444444,
             "#bd3786"
            ],
            [
             0.5555555555555556,
             "#d8576b"
            ],
            [
             0.6666666666666666,
             "#ed7953"
            ],
            [
             0.7777777777777778,
             "#fb9f3a"
            ],
            [
             0.8888888888888888,
             "#fdca26"
            ],
            [
             1,
             "#f0f921"
            ]
           ]
          },
          "colorway": [
           "#636efa",
           "#EF553B",
           "#00cc96",
           "#ab63fa",
           "#FFA15A",
           "#19d3f3",
           "#FF6692",
           "#B6E880",
           "#FF97FF",
           "#FECB52"
          ],
          "font": {
           "color": "#2a3f5f"
          },
          "geo": {
           "bgcolor": "white",
           "lakecolor": "white",
           "landcolor": "white",
           "showlakes": true,
           "showland": true,
           "subunitcolor": "#C8D4E3"
          },
          "hoverlabel": {
           "align": "left"
          },
          "hovermode": "closest",
          "mapbox": {
           "style": "light"
          },
          "paper_bgcolor": "white",
          "plot_bgcolor": "white",
          "polar": {
           "angularaxis": {
            "gridcolor": "#EBF0F8",
            "linecolor": "#EBF0F8",
            "ticks": ""
           },
           "bgcolor": "white",
           "radialaxis": {
            "gridcolor": "#EBF0F8",
            "linecolor": "#EBF0F8",
            "ticks": ""
           }
          },
          "scene": {
           "xaxis": {
            "backgroundcolor": "white",
            "gridcolor": "#DFE8F3",
            "gridwidth": 2,
            "linecolor": "#EBF0F8",
            "showbackground": true,
            "ticks": "",
            "zerolinecolor": "#EBF0F8"
           },
           "yaxis": {
            "backgroundcolor": "white",
            "gridcolor": "#DFE8F3",
            "gridwidth": 2,
            "linecolor": "#EBF0F8",
            "showbackground": true,
            "ticks": "",
            "zerolinecolor": "#EBF0F8"
           },
           "zaxis": {
            "backgroundcolor": "white",
            "gridcolor": "#DFE8F3",
            "gridwidth": 2,
            "linecolor": "#EBF0F8",
            "showbackground": true,
            "ticks": "",
            "zerolinecolor": "#EBF0F8"
           }
          },
          "shapedefaults": {
           "line": {
            "color": "#2a3f5f"
           }
          },
          "ternary": {
           "aaxis": {
            "gridcolor": "#DFE8F3",
            "linecolor": "#A2B1C6",
            "ticks": ""
           },
           "baxis": {
            "gridcolor": "#DFE8F3",
            "linecolor": "#A2B1C6",
            "ticks": ""
           },
           "bgcolor": "white",
           "caxis": {
            "gridcolor": "#DFE8F3",
            "linecolor": "#A2B1C6",
            "ticks": ""
           }
          },
          "title": {
           "x": 0.05
          },
          "xaxis": {
           "automargin": true,
           "gridcolor": "#EBF0F8",
           "linecolor": "#EBF0F8",
           "ticks": "",
           "title": {
            "standoff": 15
           },
           "zerolinecolor": "#EBF0F8",
           "zerolinewidth": 2
          },
          "yaxis": {
           "automargin": true,
           "gridcolor": "#EBF0F8",
           "linecolor": "#EBF0F8",
           "ticks": "",
           "title": {
            "standoff": 15
           },
           "zerolinecolor": "#EBF0F8",
           "zerolinewidth": 2
          }
         }
        },
        "title": {
         "text": "UNFI by Month / Year",
         "x": 0.5
        },
        "width": 800,
        "xaxis": {
         "anchor": "y",
         "domain": [
          0,
          1
         ],
         "title": {
          "text": ""
         }
        },
        "yaxis": {
         "anchor": "x",
         "domain": [
          0,
          1
         ],
         "showticklabels": false,
         "title": {
          "text": ""
         }
        }
       }
      }
     },
     "metadata": {},
     "output_type": "display_data"
    }
   ],
   "source": [
    "chart_year = unfi_clean.groupby(['Year','MonthYear'])[['Sales']].sum().reset_index()\n",
    "\n",
    "fig = px.bar(chart_year, x='MonthYear', y='Sales',\n",
    "             color='Year', title='UNFI by Month / Year', width=800, height=400,\n",
    "             text_auto='.3s', labels={'Sales':'','MonthYear':''},template='plotly_white')\n",
    "\n",
    "fig.update_yaxes(showticklabels=False)\n",
    "\n",
    "fig.update_layout(coloraxis_showscale=False, title_x=0.5)"
   ]
  },
  {
   "cell_type": "code",
   "execution_count": 31,
   "id": "896017fd",
   "metadata": {},
   "outputs": [],
   "source": [
    "# clean Size column\n",
    "def clean_size(size):\n",
    "    size = size.replace(' ', '').upper()  # Remove spaces and standardize case\n",
    "    if '2.25' in size:\n",
    "        return '2.25 OZ'\n",
    "    elif '1.34' in size:\n",
    "        return '1.34 OZ'\n",
    "    else:\n",
    "        return '4 OZ'  # Return the size as is if it doesn't match any condition\n",
    "    \n",
    "# map categories to Grocery, Away From Home, Other\n",
    "def categorize(channel):\n",
    "\n",
    "    grocery_channels = ['Independents', 'SuperMarket Independent', 'SuperMarket Chain', \n",
    "                          'Natural - Chain', 'SuperMarket']\n",
    "    away_from_home_categories = ['Food Service', 'Alternative Channel']\n",
    "\n",
    "    if channel in grocery_channels:\n",
    "        return 'Grocery'\n",
    "    elif channel in away_from_home_categories:\n",
    "        return 'Away From Home'\n",
    "    else:\n",
    "        return 'Other'\n",
    "    \n",
    "def get_month_num(month):\n",
    "    if month == 'January':\n",
    "        return 1\n",
    "    elif month == 'February':\n",
    "        return 2\n",
    "    elif month == 'March':\n",
    "        return 3\n",
    "    elif month == 'April':\n",
    "        return 4\n",
    "    elif month == 'May':\n",
    "        return 5\n",
    "    elif month == 'June':\n",
    "        return 6\n",
    "    elif month == 'July':\n",
    "        return 7\n",
    "    elif month == 'August':\n",
    "        return 8\n",
    "    elif month == 'September':\n",
    "        return 9\n",
    "    elif month == 'October':\n",
    "        return 10\n",
    "    elif month == 'November':\n",
    "        return 11\n",
    "    else:\n",
    "        return 12\n",
    "    \n",
    "    "
   ]
  },
  {
   "cell_type": "code",
   "execution_count": 32,
   "id": "aa640036",
   "metadata": {},
   "outputs": [],
   "source": [
    "# sales_path = st.file_uploader('')\n",
    "sales_path = r\"C:\\Users\\mikej\\Downloads\\unfi_sep_2023.xlsx\"\n",
    "\n",
    "use_cols = ['Region', 'Channel', 'Chain Name','Customer Name', 'Address', 'City', 'State',\n",
    "       'Zip Code', 'Warehouse', 'MFG PROD CD', 'Brand','Prod #', 'Description', 'Pack', 'Size',\n",
    "       'UNFI Published Wholesale','Sales', 'Units']\n",
    "\n",
    "if sales_path is not None:\n",
    "\n",
    "    df = pd.read_excel(path,skiprows=12, usecols=use_cols)\n",
    "    df.dropna(subset=['Customer Name'], inplace=True)\n",
    "    df['Chain Name'].fillna(df['Customer Name'], inplace=True)\n",
    "    df.rename(columns = {'Channel':'Segment'}, inplace = True)\n",
    "    \n",
    "    df['Size'] = df['Size'].apply(clean_size).convert_dtypes()\n",
    "    df['Channel'] = df['Segment'].apply(categorize)\n",
    "    \n",
    "    month = st.selectbox(\n",
    "        'What Month Are You Uploading?',\n",
    "        ('January','February','March','April',\n",
    "         'May','June','July','August','September',\n",
    "         'October','November','December')\n",
    "    )\n",
    "\n",
    "    year = st.selectbox(\n",
    "        'Which Year Are You Uploading?',\n",
    "        ('2024','2025')\n",
    "    )\n",
    "    \n",
    "    df['Month'] = str(month)\n",
    "    df['MonthNum'] =  df['Month'].apply(get_month_num)\n",
    "    \n",
    "    df['Year'] = str(year)\n",
    "    \n",
    "    df['MonthYear'] = df['MonthNum'].astype(str).str.zfill(2) + '-' + df['Year'].astype(str)\n",
    "    \n",
    "    \n",
    "    "
   ]
  },
  {
   "cell_type": "code",
   "execution_count": 33,
   "id": "af6eecad",
   "metadata": {},
   "outputs": [
    {
     "data": {
      "text/html": [
       "<div>\n",
       "<style scoped>\n",
       "    .dataframe tbody tr th:only-of-type {\n",
       "        vertical-align: middle;\n",
       "    }\n",
       "\n",
       "    .dataframe tbody tr th {\n",
       "        vertical-align: top;\n",
       "    }\n",
       "\n",
       "    .dataframe thead th {\n",
       "        text-align: right;\n",
       "    }\n",
       "</style>\n",
       "<table border=\"1\" class=\"dataframe\">\n",
       "  <thead>\n",
       "    <tr style=\"text-align: right;\">\n",
       "      <th></th>\n",
       "      <th>Region</th>\n",
       "      <th>Segment</th>\n",
       "      <th>Chain Name</th>\n",
       "      <th>Customer Name</th>\n",
       "      <th>Address</th>\n",
       "      <th>City</th>\n",
       "      <th>State</th>\n",
       "      <th>Zip Code</th>\n",
       "      <th>Warehouse</th>\n",
       "      <th>MFG PROD CD</th>\n",
       "      <th>...</th>\n",
       "      <th>Pack</th>\n",
       "      <th>Size</th>\n",
       "      <th>UNFI Published Wholesale</th>\n",
       "      <th>Sales</th>\n",
       "      <th>Units</th>\n",
       "      <th>Channel</th>\n",
       "      <th>Month</th>\n",
       "      <th>MonthNum</th>\n",
       "      <th>Year</th>\n",
       "      <th>MonthYear</th>\n",
       "    </tr>\n",
       "  </thead>\n",
       "  <tbody>\n",
       "    <tr>\n",
       "      <th>0</th>\n",
       "      <td>East</td>\n",
       "      <td>Independents</td>\n",
       "      <td>BEN FRANKLIN/MIND FAIR</td>\n",
       "      <td>BEN FRANKLIN/MIND FAIR</td>\n",
       "      <td>13 W COLLEGE STREET</td>\n",
       "      <td>OBERLIN</td>\n",
       "      <td>OH</td>\n",
       "      <td>44074</td>\n",
       "      <td>GRW</td>\n",
       "      <td>800.0</td>\n",
       "      <td>...</td>\n",
       "      <td>12.0</td>\n",
       "      <td>2.25 OZ</td>\n",
       "      <td>53.93</td>\n",
       "      <td>53.93</td>\n",
       "      <td>1.0</td>\n",
       "      <td>Grocery</td>\n",
       "      <td>January</td>\n",
       "      <td>1</td>\n",
       "      <td>2024</td>\n",
       "      <td>01-2024</td>\n",
       "    </tr>\n",
       "    <tr>\n",
       "      <th>1</th>\n",
       "      <td>East</td>\n",
       "      <td>Independents</td>\n",
       "      <td>NATURE'S CUPBOARD</td>\n",
       "      <td>NATURE'S CUPBOARD</td>\n",
       "      <td>1626 NORTH MAIN STREET</td>\n",
       "      <td>ANDERSON</td>\n",
       "      <td>SC</td>\n",
       "      <td>29621</td>\n",
       "      <td>ATL</td>\n",
       "      <td>816.0</td>\n",
       "      <td>...</td>\n",
       "      <td>12.0</td>\n",
       "      <td>4 OZ</td>\n",
       "      <td>82.13</td>\n",
       "      <td>82.13</td>\n",
       "      <td>1.0</td>\n",
       "      <td>Grocery</td>\n",
       "      <td>January</td>\n",
       "      <td>1</td>\n",
       "      <td>2024</td>\n",
       "      <td>01-2024</td>\n",
       "    </tr>\n",
       "    <tr>\n",
       "      <th>2</th>\n",
       "      <td>East</td>\n",
       "      <td>Independents</td>\n",
       "      <td>JOHN EDWARDS WHOLE FOOD M</td>\n",
       "      <td>JOHN EDWARDS WHOLE FOOD M</td>\n",
       "      <td>158 MAIN STREET</td>\n",
       "      <td>ELLSWORTH</td>\n",
       "      <td>ME</td>\n",
       "      <td>04605</td>\n",
       "      <td>CHE</td>\n",
       "      <td>816.0</td>\n",
       "      <td>...</td>\n",
       "      <td>12.0</td>\n",
       "      <td>4 OZ</td>\n",
       "      <td>82.13</td>\n",
       "      <td>76.38</td>\n",
       "      <td>1.0</td>\n",
       "      <td>Grocery</td>\n",
       "      <td>January</td>\n",
       "      <td>1</td>\n",
       "      <td>2024</td>\n",
       "      <td>01-2024</td>\n",
       "    </tr>\n",
       "    <tr>\n",
       "      <th>3</th>\n",
       "      <td>East</td>\n",
       "      <td>Independents</td>\n",
       "      <td>NATURA U.S. INC</td>\n",
       "      <td>NATURA U.S. INC</td>\n",
       "      <td>4220 HYDE PARK BLVD</td>\n",
       "      <td>NIAGARA FALLS</td>\n",
       "      <td>NY</td>\n",
       "      <td>14305</td>\n",
       "      <td>CHE</td>\n",
       "      <td>816.0</td>\n",
       "      <td>...</td>\n",
       "      <td>12.0</td>\n",
       "      <td>4 OZ</td>\n",
       "      <td>328.52</td>\n",
       "      <td>282.52</td>\n",
       "      <td>4.0</td>\n",
       "      <td>Grocery</td>\n",
       "      <td>January</td>\n",
       "      <td>1</td>\n",
       "      <td>2024</td>\n",
       "      <td>01-2024</td>\n",
       "    </tr>\n",
       "    <tr>\n",
       "      <th>4</th>\n",
       "      <td>East</td>\n",
       "      <td>Independents</td>\n",
       "      <td>HENDERSONVILLE PRODUCE</td>\n",
       "      <td>HENDERSONVILLE PRODUCE</td>\n",
       "      <td>760 E MAIN ST</td>\n",
       "      <td>HENDERSONVILLE</td>\n",
       "      <td>TN</td>\n",
       "      <td>37075</td>\n",
       "      <td>ATL</td>\n",
       "      <td>881.0</td>\n",
       "      <td>...</td>\n",
       "      <td>12.0</td>\n",
       "      <td>4 OZ</td>\n",
       "      <td>82.13</td>\n",
       "      <td>78.84</td>\n",
       "      <td>1.0</td>\n",
       "      <td>Grocery</td>\n",
       "      <td>January</td>\n",
       "      <td>1</td>\n",
       "      <td>2024</td>\n",
       "      <td>01-2024</td>\n",
       "    </tr>\n",
       "    <tr>\n",
       "      <th>...</th>\n",
       "      <td>...</td>\n",
       "      <td>...</td>\n",
       "      <td>...</td>\n",
       "      <td>...</td>\n",
       "      <td>...</td>\n",
       "      <td>...</td>\n",
       "      <td>...</td>\n",
       "      <td>...</td>\n",
       "      <td>...</td>\n",
       "      <td>...</td>\n",
       "      <td>...</td>\n",
       "      <td>...</td>\n",
       "      <td>...</td>\n",
       "      <td>...</td>\n",
       "      <td>...</td>\n",
       "      <td>...</td>\n",
       "      <td>...</td>\n",
       "      <td>...</td>\n",
       "      <td>...</td>\n",
       "      <td>...</td>\n",
       "      <td>...</td>\n",
       "    </tr>\n",
       "    <tr>\n",
       "      <th>6406</th>\n",
       "      <td>West</td>\n",
       "      <td>E-Commerce</td>\n",
       "      <td>VITACOST</td>\n",
       "      <td>VITACOST.COM (WAVE SEPARATE)</td>\n",
       "      <td>C/O GARY GRAY</td>\n",
       "      <td>LAS VEGAS</td>\n",
       "      <td>NV</td>\n",
       "      <td>89119</td>\n",
       "      <td>MOR</td>\n",
       "      <td>34.0</td>\n",
       "      <td>...</td>\n",
       "      <td>12.0</td>\n",
       "      <td>2.25 OZ</td>\n",
       "      <td>155.31</td>\n",
       "      <td>119.79</td>\n",
       "      <td>3.0</td>\n",
       "      <td>Other</td>\n",
       "      <td>January</td>\n",
       "      <td>1</td>\n",
       "      <td>2024</td>\n",
       "      <td>01-2024</td>\n",
       "    </tr>\n",
       "    <tr>\n",
       "      <th>6408</th>\n",
       "      <td>West</td>\n",
       "      <td>E-Commerce</td>\n",
       "      <td>WEEE INC</td>\n",
       "      <td>WEEE LA DRY</td>\n",
       "      <td>C/O HAO EARLEY</td>\n",
       "      <td>LA MIRADA</td>\n",
       "      <td>CA</td>\n",
       "      <td>90638</td>\n",
       "      <td>MOR</td>\n",
       "      <td>801.0</td>\n",
       "      <td>...</td>\n",
       "      <td>12.0</td>\n",
       "      <td>2.25 OZ</td>\n",
       "      <td>155.31</td>\n",
       "      <td>140.94</td>\n",
       "      <td>3.0</td>\n",
       "      <td>Other</td>\n",
       "      <td>January</td>\n",
       "      <td>1</td>\n",
       "      <td>2024</td>\n",
       "      <td>01-2024</td>\n",
       "    </tr>\n",
       "    <tr>\n",
       "      <th>6409</th>\n",
       "      <td>West</td>\n",
       "      <td>E-Commerce</td>\n",
       "      <td>WEEE INC</td>\n",
       "      <td>WEEE LA DRY</td>\n",
       "      <td>C/O HAO EARLEY</td>\n",
       "      <td>LA MIRADA</td>\n",
       "      <td>CA</td>\n",
       "      <td>90638</td>\n",
       "      <td>MOR</td>\n",
       "      <td>34.0</td>\n",
       "      <td>...</td>\n",
       "      <td>12.0</td>\n",
       "      <td>2.25 OZ</td>\n",
       "      <td>103.54</td>\n",
       "      <td>93.96</td>\n",
       "      <td>2.0</td>\n",
       "      <td>Other</td>\n",
       "      <td>January</td>\n",
       "      <td>1</td>\n",
       "      <td>2024</td>\n",
       "      <td>01-2024</td>\n",
       "    </tr>\n",
       "    <tr>\n",
       "      <th>6411</th>\n",
       "      <td>West</td>\n",
       "      <td>SuperMarket Independent</td>\n",
       "      <td>ZANOTTOS</td>\n",
       "      <td>ZANOTTOS MARKET-SUNNYVALE</td>\n",
       "      <td>C/O NICK OR TROY</td>\n",
       "      <td>SUNNYVALE</td>\n",
       "      <td>CA</td>\n",
       "      <td>94087</td>\n",
       "      <td>ROC</td>\n",
       "      <td>31.0</td>\n",
       "      <td>...</td>\n",
       "      <td>12.0</td>\n",
       "      <td>2.25 OZ</td>\n",
       "      <td>51.77</td>\n",
       "      <td>46.98</td>\n",
       "      <td>1.0</td>\n",
       "      <td>Grocery</td>\n",
       "      <td>January</td>\n",
       "      <td>1</td>\n",
       "      <td>2024</td>\n",
       "      <td>01-2024</td>\n",
       "    </tr>\n",
       "    <tr>\n",
       "      <th>6412</th>\n",
       "      <td>West</td>\n",
       "      <td>SuperMarket Independent</td>\n",
       "      <td>ZANOTTOS</td>\n",
       "      <td>ZANOTTOS MARKET-SUNNYVALE</td>\n",
       "      <td>C/O NICK OR TROY</td>\n",
       "      <td>SUNNYVALE</td>\n",
       "      <td>CA</td>\n",
       "      <td>94087</td>\n",
       "      <td>ROC</td>\n",
       "      <td>34.0</td>\n",
       "      <td>...</td>\n",
       "      <td>12.0</td>\n",
       "      <td>2.25 OZ</td>\n",
       "      <td>51.77</td>\n",
       "      <td>46.98</td>\n",
       "      <td>1.0</td>\n",
       "      <td>Grocery</td>\n",
       "      <td>January</td>\n",
       "      <td>1</td>\n",
       "      <td>2024</td>\n",
       "      <td>01-2024</td>\n",
       "    </tr>\n",
       "  </tbody>\n",
       "</table>\n",
       "<p>6266 rows × 23 columns</p>\n",
       "</div>"
      ],
      "text/plain": [
       "     Region                  Segment                 Chain Name  \\\n",
       "0      East             Independents  BEN FRANKLIN/MIND FAIR      \n",
       "1      East             Independents  NATURE'S CUPBOARD           \n",
       "2      East             Independents  JOHN EDWARDS WHOLE FOOD M   \n",
       "3      East             Independents  NATURA U.S. INC             \n",
       "4      East             Independents  HENDERSONVILLE PRODUCE      \n",
       "...     ...                      ...                        ...   \n",
       "6406   West               E-Commerce                   VITACOST   \n",
       "6408   West               E-Commerce                   WEEE INC   \n",
       "6409   West               E-Commerce                   WEEE INC   \n",
       "6411   West  SuperMarket Independent                   ZANOTTOS   \n",
       "6412   West  SuperMarket Independent                   ZANOTTOS   \n",
       "\n",
       "                     Customer Name                       Address  \\\n",
       "0        BEN FRANKLIN/MIND FAIR        13 W COLLEGE STREET         \n",
       "1        NATURE'S CUPBOARD             1626 NORTH MAIN STREET      \n",
       "2        JOHN EDWARDS WHOLE FOOD M     158 MAIN STREET             \n",
       "3        NATURA U.S. INC               4220 HYDE PARK BLVD         \n",
       "4        HENDERSONVILLE PRODUCE        760 E MAIN ST               \n",
       "...                            ...                           ...   \n",
       "6406  VITACOST.COM (WAVE SEPARATE)  C/O GARY GRAY                  \n",
       "6408  WEEE LA DRY                   C/O HAO EARLEY                 \n",
       "6409  WEEE LA DRY                   C/O HAO EARLEY                 \n",
       "6411  ZANOTTOS MARKET-SUNNYVALE     C/O NICK OR TROY               \n",
       "6412  ZANOTTOS MARKET-SUNNYVALE     C/O NICK OR TROY               \n",
       "\n",
       "                    City State    Zip Code Warehouse  MFG PROD CD  ...  Pack  \\\n",
       "0      OBERLIN              OH       44074       GRW        800.0  ...  12.0   \n",
       "1      ANDERSON             SC       29621       ATL        816.0  ...  12.0   \n",
       "2      ELLSWORTH            ME       04605       CHE        816.0  ...  12.0   \n",
       "3      NIAGARA FALLS        NY       14305       CHE        816.0  ...  12.0   \n",
       "4      HENDERSONVILLE       TN       37075       ATL        881.0  ...  12.0   \n",
       "...                  ...   ...         ...       ...          ...  ...   ...   \n",
       "6406  LAS VEGAS             NV  89119            MOR         34.0  ...  12.0   \n",
       "6408  LA MIRADA             CA  90638            MOR        801.0  ...  12.0   \n",
       "6409  LA MIRADA             CA  90638            MOR         34.0  ...  12.0   \n",
       "6411  SUNNYVALE             CA  94087            ROC         31.0  ...  12.0   \n",
       "6412  SUNNYVALE             CA  94087            ROC         34.0  ...  12.0   \n",
       "\n",
       "         Size UNFI Published Wholesale   Sales Units  Channel    Month  \\\n",
       "0     2.25 OZ                    53.93   53.93   1.0  Grocery  January   \n",
       "1        4 OZ                    82.13   82.13   1.0  Grocery  January   \n",
       "2        4 OZ                    82.13   76.38   1.0  Grocery  January   \n",
       "3        4 OZ                   328.52  282.52   4.0  Grocery  January   \n",
       "4        4 OZ                    82.13   78.84   1.0  Grocery  January   \n",
       "...       ...                      ...     ...   ...      ...      ...   \n",
       "6406  2.25 OZ                   155.31  119.79   3.0    Other  January   \n",
       "6408  2.25 OZ                   155.31  140.94   3.0    Other  January   \n",
       "6409  2.25 OZ                   103.54   93.96   2.0    Other  January   \n",
       "6411  2.25 OZ                    51.77   46.98   1.0  Grocery  January   \n",
       "6412  2.25 OZ                    51.77   46.98   1.0  Grocery  January   \n",
       "\n",
       "      MonthNum  Year MonthYear  \n",
       "0            1  2024   01-2024  \n",
       "1            1  2024   01-2024  \n",
       "2            1  2024   01-2024  \n",
       "3            1  2024   01-2024  \n",
       "4            1  2024   01-2024  \n",
       "...        ...   ...       ...  \n",
       "6406         1  2024   01-2024  \n",
       "6408         1  2024   01-2024  \n",
       "6409         1  2024   01-2024  \n",
       "6411         1  2024   01-2024  \n",
       "6412         1  2024   01-2024  \n",
       "\n",
       "[6266 rows x 23 columns]"
      ]
     },
     "execution_count": 33,
     "metadata": {},
     "output_type": "execute_result"
    }
   ],
   "source": [
    "df"
   ]
  },
  {
   "cell_type": "code",
   "execution_count": null,
   "id": "66dcead6",
   "metadata": {},
   "outputs": [],
   "source": []
  }
 ],
 "metadata": {
  "kernelspec": {
   "display_name": "Python 3 (ipykernel)",
   "language": "python",
   "name": "python3"
  },
  "language_info": {
   "codemirror_mode": {
    "name": "ipython",
    "version": 3
   },
   "file_extension": ".py",
   "mimetype": "text/x-python",
   "name": "python",
   "nbconvert_exporter": "python",
   "pygments_lexer": "ipython3",
   "version": "3.11.5"
  }
 },
 "nbformat": 4,
 "nbformat_minor": 5
}
